{
 "cells": [
  {
   "cell_type": "markdown",
   "metadata": {},
   "source": [
    "### [예제 7] Softmax 파이썬 구현"
   ]
  },
  {
   "cell_type": "code",
   "execution_count": 1,
   "metadata": {},
   "outputs": [],
   "source": [
    "import numpy as np"
   ]
  },
  {
   "cell_type": "code",
   "execution_count": 2,
   "metadata": {},
   "outputs": [],
   "source": [
    "def softmax(z):\n",
    "    \n",
    "    c = np.max(z)  # overflow 방지\n",
    "    \n",
    "    numerator = np.exp(z-c)\n",
    "    denominator = np.sum(np.exp(z-c))\n",
    "    \n",
    "    y = numerator / denominator\n",
    "    \n",
    "    return y"
   ]
  },
  {
   "cell_type": "code",
   "execution_count": 3,
   "metadata": {},
   "outputs": [],
   "source": [
    "A = np.array([0.7 ,  0.8  ,  0.01])\n",
    "\n",
    "B = np.array([0.3  , 2.9,  4.0])\n",
    "\n",
    "C = np.array([110 ,  100 ,  90])\n",
    "\n",
    "D = np.array([1000, 1100, 900])"
   ]
  },
  {
   "cell_type": "code",
   "execution_count": 4,
   "metadata": {},
   "outputs": [
    {
     "name": "stdout",
     "output_type": "stream",
     "text": [
      "[0.38361989 0.42396555 0.19241456]\n",
      "[0.01821127 0.24519181 0.73659691]\n",
      "[9.99954600e-01 4.53978686e-05 2.06106005e-09]\n",
      "[3.72007598e-44 1.00000000e+00 1.38389653e-87]\n"
     ]
    }
   ],
   "source": [
    "print(softmax(A))\n",
    "print(softmax(B))\n",
    "print(softmax(C))\n",
    "print(softmax(D))"
   ]
  },
  {
   "cell_type": "code",
   "execution_count": 5,
   "metadata": {},
   "outputs": [
    {
     "name": "stdout",
     "output_type": "stream",
     "text": [
      "1.0\n",
      "1.0\n",
      "1.0\n",
      "1.0\n"
     ]
    }
   ],
   "source": [
    "print(np.sum(softmax(A)))\n",
    "print(np.sum(softmax(B)))\n",
    "print(np.sum(softmax(C)))\n",
    "print(np.sum(softmax(D)))"
   ]
  },
  {
   "cell_type": "code",
   "execution_count": null,
   "metadata": {},
   "outputs": [],
   "source": []
  }
 ],
 "metadata": {
  "kernelspec": {
   "display_name": "Python 3",
   "language": "python",
   "name": "python3"
  },
  "language_info": {
   "codemirror_mode": {
    "name": "ipython",
    "version": 3
   },
   "file_extension": ".py",
   "mimetype": "text/x-python",
   "name": "python",
   "nbconvert_exporter": "python",
   "pygments_lexer": "ipython3",
   "version": "3.7.6"
  }
 },
 "nbformat": 4,
 "nbformat_minor": 2
}

{
 "cells": [
  {
   "cell_type": "markdown",
   "metadata": {},
   "source": [
    "### [예제 3] 오차역전파를 이용한 MNIST 검증 (손실함수 최대 최소 구하기)"
   ]
  },
  {
   "cell_type": "code",
   "execution_count": 1,
   "metadata": {},
   "outputs": [],
   "source": [
    "import numpy as np\n",
    "import matplotlib.pyplot as plt\n",
    "\n",
    "%matplotlib inline\n",
    "\n",
    "def sigmoid(x):\n",
    "    return 1 / (1+np.exp(-x))"
   ]
  },
  {
   "cell_type": "code",
   "execution_count": 2,
   "metadata": {},
   "outputs": [],
   "source": [
    "from datetime import datetime      # datetime.now() 를 이용하여 학습 경과 시간 측정\n",
    "\n",
    "class NeuralNetwork:\n",
    "    \n",
    "    def __init__(self, input_nodes, hidden_nodes, output_nodes, learning_rate):\n",
    "        \n",
    "        self.input_nodes = input_nodes\n",
    "        self.hidden_nodes = hidden_nodes\n",
    "        self.output_nodes = output_nodes\n",
    "        \n",
    "        # 은닉층 가중치  W2 = (784 X 100) Xavier/He 방법으로 self.W2 가중치 초기화\n",
    "        self.W2 = np.random.randn(self.input_nodes, self.hidden_nodes) / np.sqrt(self.input_nodes/2)\n",
    "        self.b2 = np.random.rand(self.hidden_nodes)      \n",
    "        \n",
    "        # 출력층 가중치는 W3 = (100X10)  Xavier/He 방법으로 self.W3 가중치 초기화\n",
    "        self.W3 = np.random.randn(self.hidden_nodes, self.output_nodes) / np.sqrt(self.hidden_nodes/2)\n",
    "        self.b3 = np.random.rand(self.output_nodes)      \n",
    "                        \n",
    "        # 출력층 선형회귀 값 Z3, 출력값 A3 정의 (모두 행렬로 표시)\n",
    "        self.Z3 = np.zeros([1,output_nodes])\n",
    "        self.A3 = np.zeros([1,output_nodes])\n",
    "        \n",
    "        # 은닉층 선형회귀 값 Z2, 출력값 A2 정의 (모두 행렬로 표시)\n",
    "        self.Z2 = np.zeros([1,hidden_nodes])\n",
    "        self.A2 = np.zeros([1,hidden_nodes])\n",
    "        \n",
    "        # 입력층 선형회귀 값 Z1, 출력값 A1 정의 (모두 행렬로 표시)\n",
    "        self.Z1 = np.zeros([1,input_nodes])    \n",
    "        self.A1 = np.zeros([1,input_nodes])       \n",
    "        \n",
    "        # 학습률 learning rate 초기화\n",
    "        self.learning_rate = learning_rate\n",
    "        \n",
    "    def feed_forward(self):  \n",
    "        \n",
    "        delta = 1e-7    # log 무한대 발산 방지\n",
    "        \n",
    "        # 입력층 선형회귀 값 Z1, 출력값 A1 계산\n",
    "        self.Z1 = self.input_data\n",
    "        self.A1 = self.input_data\n",
    "        \n",
    "        # 은닉층 선형회귀 값 Z2, 출력값 A2 계산    \n",
    "        self.Z2 = np.dot(self.A1, self.W2) + self.b2\n",
    "        self.A2 = sigmoid(self.Z2)\n",
    "        \n",
    "        # 출력층 선형회귀 값 Z3, 출력값 A3 계산\n",
    "        self.Z3 = np.dot(self.A2, self.W3) + self.b3\n",
    "        self.A3 = sigmoid(self.Z3)\n",
    "        \n",
    "        # cross entropy \n",
    "        return  -np.sum( self.target_data*np.log(self.A3 + delta) + (1-self.target_data)*np.log((1 - self.A3)+delta ) )    \n",
    "    \n",
    "    def loss_val(self):\n",
    "        \n",
    "        delta = 1e-7    # log 무한대 발산 방지\n",
    "        \n",
    "        # 입력층 선형회귀 값 Z1, 출력값 A1 계산\n",
    "        self.Z1 = self.input_data\n",
    "        self.A1 = self.input_data\n",
    "        \n",
    "        # 은닉층 선형회귀 값 Z2, 출력값 A2 계산    \n",
    "        self.Z2 = np.dot(self.A1, self.W2) + self.b2\n",
    "        self.A2 = sigmoid(self.Z2)\n",
    "        \n",
    "        # 출력층 선형회귀 값 Z3, 출력값 A3 계산\n",
    "        self.Z3 = np.dot(self.A2, self.W3) + self.b3\n",
    "        self.A3 = sigmoid(self.Z3)\n",
    "        \n",
    "        # cross entropy\n",
    "        return  -np.sum( self.target_data*np.log(self.A3 + delta) + (1-self.target_data)*np.log((1 - self.A3)+delta ) )\n",
    "   \n",
    "    \n",
    "    # 정확도 측정함수 \n",
    "    def accuracy(self, test_input_data, test_target_data):\n",
    "        \n",
    "        matched_list = []\n",
    "        not_matched_list = []\n",
    "        \n",
    "        \n",
    "        for index in range(len(test_input_data)):\n",
    "                        \n",
    "            label = int(test_target_data[index])\n",
    "                        \n",
    "            # one-hot encoding을 위한 데이터 정규화 (data normalize)\n",
    "            data = (test_input_data[index] / 255.0 * 0.99) + 0.01\n",
    "                  \n",
    "            # predict 를 위해서 vector 을 matrix 로 변환하여 인수로 넘겨줌\n",
    "            predicted_num = self.predict(np.array(data, ndmin=2)) \n",
    "        \n",
    "            if label == predicted_num:\n",
    "                matched_list.append(index)\n",
    "                \n",
    "            else:\n",
    "                \n",
    "                not_matched_list.append(index)\n",
    "        \n",
    "        accuracy_val = (len(matched_list)/(len(test_input_data)))\n",
    "        \n",
    "        return accuracy_val, not_matched_list\n",
    "    \n",
    "    \n",
    "    def train(self, input_data, target_data):   # input_data : 784 개, target_data : 10개\n",
    "        \n",
    "        self.target_data = target_data    \n",
    "        self.input_data = input_data\n",
    "        \n",
    "        # 먼저 feed forward 를 통해서 최종 출력값과 이를 바탕으로 현재의 에러 값 계산\n",
    "        loss_val = self.feed_forward()\n",
    "        \n",
    "        # 출력층 loss 인 loss_3 구함\n",
    "        loss_3 = (self.A3-self.target_data) * self.A3 * (1-self.A3)\n",
    "        \n",
    "        # 출력층 가중치 W3, 출력층 바이어스 b3 업데이트\n",
    "        self.W3 = self.W3 - self.learning_rate * np.dot(self.A2.T, loss_3)   \n",
    "        \n",
    "        self.b3 = self.b3 - self.learning_rate * loss_3  \n",
    "        \n",
    "        # 은닉층 loss 인 loss_2 구함        \n",
    "        loss_2 = np.dot(loss_3, self.W3.T) * self.A2 * (1-self.A2)\n",
    "        \n",
    "        # 은닉층 가중치 W2, 은닉층 바이어스 b2 업데이트\n",
    "        self.W2 = self.W2 - self.learning_rate * np.dot(self.A1.T, loss_2)   \n",
    "        \n",
    "        self.b2 = self.b2 - self.learning_rate * loss_2\n",
    "        \n",
    "        \n",
    "    def predict(self, input_data):        # input_data 는 행렬로 입력됨 즉, (1, 784) shape 을 가짐        \n",
    "        \n",
    "        Z2 = np.dot(input_data, self.W2) + self.b2\n",
    "        A2 = sigmoid(Z2)\n",
    "        \n",
    "        Z3 = np.dot(A2, self.W3) + self.b3\n",
    "        A3 = sigmoid(Z3)\n",
    "        \n",
    "        predicted_num = np.argmax(A3)\n",
    "    \n",
    "        return predicted_num"
   ]
  },
  {
   "cell_type": "code",
   "execution_count": 3,
   "metadata": {},
   "outputs": [
    {
     "name": "stdout",
     "output_type": "stream",
     "text": [
      "training_data.shape =  (60000, 785)\n",
      "training_data[0,0] =  5.0 , len(training_data[0]) =  785\n"
     ]
    }
   ],
   "source": [
    "# 0~9 숫자 이미지가 784개의 숫자 (28X28) 로 구성되어 있는 training data 읽어옴\n",
    "\n",
    "try:\n",
    "    training_data = np.loadtxt('./mnist_train.csv', delimiter=',', dtype=np.float32)\n",
    "\n",
    "    print(\"training_data.shape = \", training_data.shape)\n",
    "    print(\"training_data[0,0] = \", training_data[0,0], \", len(training_data[0]) = \", len(training_data[0]))\n",
    "    \n",
    "except Exception as err:\n",
    "    \n",
    "    print('Exception occur !!')"
   ]
  },
  {
   "cell_type": "markdown",
   "metadata": {},
   "source": [
    "#### 은닉층 노드 100 개 인 경우의 MNIST 오차역전파 "
   ]
  },
  {
   "cell_type": "code",
   "execution_count": 4,
   "metadata": {},
   "outputs": [
    {
     "name": "stdout",
     "output_type": "stream",
     "text": [
      "epochs =  0 , step =  0 , current loss_val =  6.436739776367627\n",
      "epochs =  0 , step =  1000 , current loss_val =  1.6880173311113413\n",
      "epochs =  0 , step =  2000 , current loss_val =  1.886691934533701\n",
      "epochs =  0 , step =  3000 , current loss_val =  2.6587996731612926\n",
      "epochs =  0 , step =  4000 , current loss_val =  1.1104753074133114\n",
      "epochs =  0 , step =  5000 , current loss_val =  0.9251165194432305\n",
      "epochs =  0 , step =  6000 , current loss_val =  0.619259698895438\n",
      "epochs =  0 , step =  7000 , current loss_val =  1.9495329346883654\n",
      "epochs =  0 , step =  8000 , current loss_val =  0.669436343694768\n",
      "epochs =  0 , step =  9000 , current loss_val =  0.8944844218224005\n",
      "epochs =  0 , step =  10000 , current loss_val =  0.6607705516394078\n",
      "epochs =  0 , step =  11000 , current loss_val =  0.6693793680623211\n",
      "epochs =  0 , step =  12000 , current loss_val =  0.796936709696063\n",
      "epochs =  0 , step =  13000 , current loss_val =  0.9617376332551535\n",
      "epochs =  0 , step =  14000 , current loss_val =  0.7536940226738469\n",
      "epochs =  0 , step =  15000 , current loss_val =  0.7036357308085803\n",
      "epochs =  0 , step =  16000 , current loss_val =  0.6585036465314913\n",
      "epochs =  0 , step =  17000 , current loss_val =  1.0051251167994282\n",
      "epochs =  0 , step =  18000 , current loss_val =  0.9971042273135273\n",
      "epochs =  0 , step =  19000 , current loss_val =  0.8811738603494942\n",
      "epochs =  0 , step =  20000 , current loss_val =  0.7057446269973432\n",
      "epochs =  0 , step =  21000 , current loss_val =  1.044952759009366\n",
      "epochs =  0 , step =  22000 , current loss_val =  0.9231183531838631\n",
      "epochs =  0 , step =  23000 , current loss_val =  0.7567446781676583\n",
      "epochs =  0 , step =  24000 , current loss_val =  0.7064711684862958\n",
      "epochs =  0 , step =  25000 , current loss_val =  1.2199806934842845\n",
      "epochs =  0 , step =  26000 , current loss_val =  0.6530414759828341\n",
      "epochs =  0 , step =  27000 , current loss_val =  0.9988069696967736\n",
      "epochs =  0 , step =  28000 , current loss_val =  0.7354098663646457\n",
      "epochs =  0 , step =  29000 , current loss_val =  0.7475987837878927\n",
      "epochs =  0 , step =  30000 , current loss_val =  0.7375390315285171\n",
      "epochs =  0 , step =  31000 , current loss_val =  1.9516203751982604\n",
      "epochs =  0 , step =  32000 , current loss_val =  0.7174729037041583\n",
      "epochs =  0 , step =  33000 , current loss_val =  1.1228507287576523\n",
      "epochs =  0 , step =  34000 , current loss_val =  0.8840518463493017\n",
      "epochs =  0 , step =  35000 , current loss_val =  0.7357217986618655\n",
      "epochs =  0 , step =  36000 , current loss_val =  0.8875569665069307\n",
      "epochs =  0 , step =  37000 , current loss_val =  0.6942456766077504\n",
      "epochs =  0 , step =  38000 , current loss_val =  0.7656044135169845\n",
      "epochs =  0 , step =  39000 , current loss_val =  1.060193239022362\n",
      "epochs =  0 , step =  40000 , current loss_val =  0.7528337629104717\n",
      "epochs =  0 , step =  41000 , current loss_val =  0.7715742747868904\n",
      "epochs =  0 , step =  42000 , current loss_val =  0.7166154350781221\n",
      "epochs =  0 , step =  43000 , current loss_val =  1.0427318019690304\n",
      "epochs =  0 , step =  44000 , current loss_val =  0.8136122019042853\n",
      "epochs =  0 , step =  45000 , current loss_val =  0.7871007038883905\n",
      "epochs =  0 , step =  46000 , current loss_val =  0.8488589745363027\n",
      "epochs =  0 , step =  47000 , current loss_val =  0.8016339605432241\n",
      "epochs =  0 , step =  48000 , current loss_val =  0.8218213717347886\n",
      "epochs =  0 , step =  49000 , current loss_val =  0.7065180014350368\n",
      "epochs =  0 , step =  50000 , current loss_val =  0.839546280307018\n",
      "epochs =  0 , step =  51000 , current loss_val =  0.8387370625919868\n",
      "epochs =  0 , step =  52000 , current loss_val =  0.7575174924966057\n",
      "epochs =  0 , step =  53000 , current loss_val =  0.7942402365885847\n",
      "epochs =  0 , step =  54000 , current loss_val =  0.8141252425424419\n",
      "epochs =  0 , step =  55000 , current loss_val =  0.7377354182041274\n",
      "epochs =  0 , step =  56000 , current loss_val =  0.7214413704940081\n",
      "epochs =  0 , step =  57000 , current loss_val =  0.8827972998196473\n",
      "epochs =  0 , step =  58000 , current loss_val =  0.967798456663027\n",
      "epochs =  0 , step =  59000 , current loss_val =  0.8040260195676123\n",
      "\n",
      "elapsed time =  0:02:35.965851\n"
     ]
    }
   ],
   "source": [
    "# hyper-parameter\n",
    "i_nodes = training_data.shape[1] - 1    # input nodes 개수\n",
    "h1_nodes = 100     # hidden 1 nodes\n",
    "o_nodes = 10       # output nodes\n",
    "lr = 0.1           # learning rate\n",
    "epochs = 1         # epochs\n",
    "\n",
    "# 손실함수 값을 저장할 list 생성\n",
    "loss_val_list = []\n",
    "\n",
    "nn = NeuralNetwork(i_nodes, h1_nodes, o_nodes, lr)\n",
    "\n",
    "start_time = datetime.now()\n",
    "\n",
    "for i in range(epochs):\n",
    "    \n",
    "    for step in range(len(training_data)):  # train\n",
    "    \n",
    "        # input_data, target_data normalize        \n",
    "        target_data = np.zeros(o_nodes) + 0.01    \n",
    "        target_data[int(training_data[step, 0])] = 0.99\n",
    "    \n",
    "        input_data = ((training_data[step, 1:] / 255.0) * 0.99) + 0.01\n",
    "    \n",
    "        nn.train( np.array(input_data, ndmin=2), np.array(target_data, ndmin=2) )  # train 할 경우에 행렬로 입력\n",
    "    \n",
    "        if step % 1000 == 0:\n",
    "            print(\"epochs = \", i, \", step = \", step,  \", current loss_val = \", nn.loss_val())\n",
    "        \n",
    "        # 손실함수 값 저장\n",
    "        loss_val_list.append(nn.loss_val())        \n",
    "        \n",
    "end_time = datetime.now() \n",
    "print(\"\\nelapsed time = \", end_time - start_time) "
   ]
  },
  {
   "cell_type": "code",
   "execution_count": 5,
   "metadata": {},
   "outputs": [
    {
     "name": "stdout",
     "output_type": "stream",
     "text": [
      "test_data.shape =  (10000, 785)\n",
      "test_data[0,0] =  7.0 , len(test_data[0]) =  785\n",
      "Accuracy =  93.11  %\n"
     ]
    }
   ],
   "source": [
    "# 0~9 숫자 이미지가 784개의 숫자 (28X28) 로 구성되어 있는 test data 읽어옴\n",
    "\n",
    "try:\n",
    "    \n",
    "    test_data = np.loadtxt('./mnist_test.csv', delimiter=',', dtype=np.float32)\n",
    "\n",
    "    test_input_data = test_data[ : , 1: ]\n",
    "    test_target_data = test_data[ : , 0 ]\n",
    "\n",
    "    print(\"test_data.shape = \", test_data.shape)\n",
    "    print(\"test_data[0,0] = \", test_data[0,0], \", len(test_data[0]) = \", len(test_data[0]))\n",
    "\n",
    "    # measure accuracy\n",
    "    (accuracy_ret, false_list) = nn.accuracy(test_input_data, test_target_data)   \n",
    "\n",
    "    print('Accuracy = ', np.round(100*accuracy_ret, 3), ' %')\n",
    "    \n",
    "except Exception as err:\n",
    "    \n",
    "    print('Exception occur !!')"
   ]
  },
  {
   "cell_type": "markdown",
   "metadata": {},
   "source": [
    "#### 손실함수 그래프"
   ]
  },
  {
   "cell_type": "code",
   "execution_count": 6,
   "metadata": {},
   "outputs": [
    {
     "data": {
      "image/png": "[encoded data removed]",
      "text/plain": [
       "<Figure size 432x288 with 1 Axes>"
      ]
     },
     "metadata": {
      "needs_background": "light"
     },
     "output_type": "display_data"
    }
   ],
   "source": [
    "# 손실함수 추세 확인\n",
    "Y_DATA_LIST = []\n",
    "\n",
    "for index in range(0, len(loss_val_list), 500):\n",
    "    Y_DATA_LIST.append(loss_val_list[index])\n",
    "    \n",
    "plt.title('MNIST Loss Value Trend')\n",
    "plt.xlabel('data index ( X 500)')\n",
    "plt.ylabel('loss value')\n",
    "plt.grid()\n",
    "plt.plot(Y_DATA_LIST, color='b')\n",
    "plt.show()"
   ]
  },
  {
   "cell_type": "code",
   "execution_count": 9,
   "metadata": {},
   "outputs": [
    {
     "name": "stdout",
     "output_type": "stream",
     "text": [
      "[8, 33, 38, 80, 111, 124, 139, 144, 149, 187, 241, 247, 257, 259, 275, 290, 300, 318, 320, 321, 325, 340, 352, 358, 362, 403, 412, 444, 445, 448, 449, 468, 478, 479, 495, 502, 511, 543, 550, 551, 565, 571, 578, 582, 591, 605, 610, 624, 628, 629, 658, 659, 667, 684, 689, 691, 707, 717, 720, 740, 741, 760, 787, 791, 810, 839, 844, 881, 898, 924, 938, 939, 947, 950, 951, 959, 960, 965, 975, 1003, 1012, 1014, 1032, 1039, 1044, 1055, 1062, 1068, 1073, 1082, 1096, 1107, 1112, 1114, 1119, 1125, 1173, 1181, 1191, 1192, 1194, 1198, 1200, 1204, 1206, 1224, 1226, 1232, 1242, 1247, 1252, 1256, 1260, 1270, 1279, 1283, 1289, 1299, 1319, 1325, 1326, 1328, 1337, 1347, 1357, 1378, 1391, 1393, 1409, 1410, 1413, 1422, 1433, 1440, 1453, 1466, 1467, 1476, 1494, 1500, 1522, 1525, 1527, 1530, 1549, 1553, 1559, 1571, 1581, 1609, 1634, 1637, 1678, 1681, 1709, 1716, 1717, 1718, 1721, 1722, 1751, 1754, 1759, 1772, 1790, 1813, 1816, 1839, 1850, 1855, 1865, 1878, 1883, 1899, 1901, 1903, 1911, 1917, 1930, 1938, 1940, 1941, 1952, 1956, 1963, 1970, 1984, 2016, 2024, 2035, 2037, 2040, 2043, 2044, 2053, 2063, 2070, 2093, 2098, 2099, 2109, 2118, 2125, 2129, 2130, 2135, 2148, 2177, 2182, 2185, 2186, 2189, 2208, 2224, 2266, 2272, 2293, 2299, 2325, 2369, 2371, 2380, 2387, 2393, 2394, 2395, 2406, 2422, 2425, 2433, 2447, 2488, 2514, 2515, 2526, 2539, 2542, 2545, 2556, 2559, 2573, 2574, 2578, 2586, 2598, 2604, 2607, 2610, 2631, 2648, 2654, 2670, 2683, 2695, 2698, 2713, 2730, 2758, 2770, 2771, 2780, 2810, 2818, 2832, 2850, 2877, 2896, 2905, 2907, 2919, 2921, 2925, 2927, 2953, 2995, 3005, 3060, 3062, 3066, 3073, 3095, 3098, 3100, 3114, 3117, 3130, 3133, 3136, 3145, 3151, 3166, 3167, 3183, 3189, 3206, 3225, 3240, 3262, 3269, 3288, 3316, 3329, 3330, 3333, 3369, 3376, 3384, 3405, 3410, 3437, 3450, 3468, 3490, 3503, 3510, 3520, 3525, 3549, 3558, 3559, 3565, 3567, 3573, 3580, 3597, 3604, 3626, 3629, 3702, 3716, 3718, 3726, 3730, 3751, 3756, 3757, 3758, 3767, 3769, 3776, 3778, 3780, 3794, 3796, 3801, 3806, 3808, 3811, 3817, 3818, 3836, 3838, 3846, 3848, 3853, 3855, 3862, 3876, 3893, 3902, 3906, 3926, 3941, 3946, 3951, 3962, 3968, 3976, 4000, 4007, 4013, 4017, 4027, 4063, 4065, 4068, 4072, 4075, 4076, 4078, 4093, 4131, 4140, 4152, 4156, 4159, 4163, 4176, 4177, 4199, 4205, 4211, 4212, 4224, 4238, 4248, 4265, 4271, 4289, 4297, 4300, 4306, 4313, 4315, 4341, 4355, 4356, 4369, 4374, 4382, 4400, 4423, 4427, 4433, 4435, 4449, 4451, 4463, 4477, 4497, 4498, 4500, 4523, 4540, 4567, 4571, 4575, 4578, 4601, 4615, 4639, 4671, 4690, 4695, 4721, 4731, 4751, 4761, 4763, 4785, 4807, 4812, 4814, 4823, 4827, 4829, 4837, 4860, 4863, 4874, 4876, 4879, 4880, 4886, 4896, 4915, 4939, 4943, 4950, 4956, 4966, 4974, 4981, 4990, 4995, 4998, 5046, 5054, 5065, 5067, 5068, 5078, 5086, 5140, 5159, 5165, 5201, 5246, 5331, 5457, 5569, 5600, 5611, 5617, 5620, 5634, 5642, 5649, 5653, 5654, 5688, 5709, 5714, 5734, 5735, 5749, 5835, 5842, 5845, 5854, 5858, 5862, 5866, 5874, 5887, 5888, 5891, 5903, 5906, 5913, 5914, 5922, 5926, 5936, 5937, 5955, 5957, 5972, 5973, 5975, 5981, 5982, 5985, 5997, 6004, 6024, 6035, 6037, 6042, 6043, 6056, 6065, 6071, 6081, 6091, 6109, 6124, 6157, 6166, 6172, 6173, 6347, 6385, 6390, 6391, 6392, 6425, 6505, 6555, 6568, 6569, 6574, 6576, 6577, 6578, 6597, 6598, 6599, 6603, 6625, 6632, 6651, 6721, 6744, 6746, 6769, 6775, 6785, 6872, 6906, 6926, 6981, 7121, 7130, 7216, 7241, 7268, 7338, 7432, 7434, 7451, 7498, 7539, 7637, 7691, 7797, 7821, 7842, 7849, 7850, 7851, 7858, 7859, 7876, 7886, 7888, 7902, 7905, 7915, 7917, 7918, 7921, 7945, 8020, 8062, 8072, 8081, 8091, 8094, 8095, 8196, 8272, 8277, 8279, 8316, 8339, 8375, 8406, 8408, 8410, 8453, 8456, 8502, 8520, 8522, 8863, 9009, 9010, 9013, 9015, 9019, 9024, 9031, 9036, 9045, 9103, 9168, 9182, 9209, 9211, 9280, 9316, 9422, 9446, 9482, 9513, 9534, 9538, 9560, 9587, 9595, 9624, 9634, 9642, 9655, 9679, 9698, 9700, 9716, 9719, 9729, 9733, 9744, 9745, 9749, 9752, 9764, 9768, 9770, 9777, 9779, 9780, 9792, 9808, 9811, 9839, 9858, 9867, 9883, 9892, 9893, 9905, 9925, 9941, 9943, 9944, 9970, 9975, 9982]\n"
     ]
    }
   ],
   "source": [
    "print(false_list)"
   ]
  },
  {
   "cell_type": "markdown",
   "metadata": {},
   "source": [
    "#### 최대손실값 / 최소손실값 확인"
   ]
  },
  {
   "cell_type": "code",
   "execution_count": 7,
   "metadata": {},
   "outputs": [
    {
     "name": "stdout",
     "output_type": "stream",
     "text": [
      "max_loss =  16.75890788750648 , max_loss_index =  24798 , min_loss =  0.5800842298821084 , min_loss_index =  6529\n"
     ]
    }
   ],
   "source": [
    "max_loss = np.max(loss_val_list)\n",
    "min_loss = np.min(loss_val_list)\n",
    "max_loss_index = np.argmax(loss_val_list)\n",
    "min_loss_index = np.argmin(loss_val_list)\n",
    "\n",
    "print(\"max_loss = \", max_loss, \", max_loss_index = \", max_loss_index, \", min_loss = \", min_loss, \", min_loss_index = \", min_loss_index)"
   ]
  },
  {
   "cell_type": "code",
   "execution_count": 8,
   "metadata": {},
   "outputs": [
    {
     "data": {
      "image/png": "[encoded data removed]",
      "text/plain": [
       "<Figure size 432x288 with 1 Axes>"
      ]
     },
     "metadata": {
      "needs_background": "light"
     },
     "output_type": "display_data"
    },
    {
     "name": "stdout",
     "output_type": "stream",
     "text": [
      "label =  4.0\n"
     ]
    }
   ],
   "source": [
    "# check max loss data\n",
    "import matplotlib.pyplot as plt\n",
    "%matplotlib inline\n",
    "\n",
    "img = training_data[max_loss_index, 1:].reshape(28,28)\n",
    "\n",
    "plt.imshow(img, cmap='gray')\n",
    "plt.show()\n",
    "\n",
    "print(\"label = \", training_data[max_loss_index, 0])"
   ]
  },
  {
   "cell_type": "code",
   "execution_count": 10,
   "metadata": {},
   "outputs": [
    {
     "data": {
      "image/png": "[encoded data removed]",
      "text/plain": [
       "<Figure size 432x288 with 1 Axes>"
      ]
     },
     "metadata": {
      "needs_background": "light"
     },
     "output_type": "display_data"
    },
    {
     "name": "stdout",
     "output_type": "stream",
     "text": [
      "label =  5.0\n"
     ]
    }
   ],
   "source": [
    "# check min loss data\n",
    "import matplotlib.pyplot as plt\n",
    "%matplotlib inline\n",
    "\n",
    "img = training_data[min_loss_index, 1:].reshape(28,28)\n",
    "\n",
    "plt.imshow(img, cmap='gray')\n",
    "plt.show()\n",
    "\n",
    "print(\"label = \", training_data[min_loss_index, 0])"
   ]
  },
  {
   "cell_type": "code",
   "execution_count": null,
   "metadata": {},
   "outputs": [],
   "source": []
  }
 ],
 "metadata": {
  "anaconda-cloud": {},
  "kernelspec": {
   "display_name": "Python 3",
   "language": "python",
   "name": "python3"
  },
  "language_info": {
   "codemirror_mode": {
    "name": "ipython",
    "version": 3
   },
   "file_extension": ".py",
   "mimetype": "text/x-python",
   "name": "python",
   "nbconvert_exporter": "python",
   "pygments_lexer": "ipython3",
   "version": "3.7.6"
  }
 },
 "nbformat": 4,
 "nbformat_minor": 1
}

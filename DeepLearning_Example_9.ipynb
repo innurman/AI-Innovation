{
 "cells": [
  {
   "cell_type": "markdown",
   "metadata": {},
   "source": [
    "### [예제 9] np.random.shuffle() 리뷰 및 실습"
   ]
  },
  {
   "cell_type": "code",
   "execution_count": 2,
   "metadata": {},
   "outputs": [],
   "source": [
    "import numpy as np"
   ]
  },
  {
   "cell_type": "code",
   "execution_count": 3,
   "metadata": {},
   "outputs": [
    {
     "name": "stdout",
     "output_type": "stream",
     "text": [
      "[0 1 2 3 4 5]\n",
      "<class 'numpy.ndarray'> (6,)\n"
     ]
    }
   ],
   "source": [
    "A = np.array([ data for data in range(6)  ])\n",
    "\n",
    "print(A)\n",
    "print(type(A), A.shape)"
   ]
  },
  {
   "cell_type": "code",
   "execution_count": 4,
   "metadata": {},
   "outputs": [
    {
     "name": "stdout",
     "output_type": "stream",
     "text": [
      "[3 4 1 5 2 0]\n",
      "<class 'numpy.ndarray'> (6,)\n"
     ]
    }
   ],
   "source": [
    "np.random.shuffle(A)\n",
    "\n",
    "print(A)\n",
    "print(type(A), A.shape)"
   ]
  },
  {
   "cell_type": "code",
   "execution_count": 5,
   "metadata": {},
   "outputs": [
    {
     "name": "stdout",
     "output_type": "stream",
     "text": [
      "[[0 0]\n",
      " [1 1]\n",
      " [2 2]\n",
      " [3 3]]\n",
      "<class 'numpy.ndarray'> (4, 2)\n"
     ]
    }
   ],
   "source": [
    "B = np.array([ [data, data] for data in range(4) ])\n",
    "\n",
    "print(B)\n",
    "print(type(B), B.shape)"
   ]
  },
  {
   "cell_type": "code",
   "execution_count": 7,
   "metadata": {},
   "outputs": [
    {
     "name": "stdout",
     "output_type": "stream",
     "text": [
      "[[0 0]\n",
      " [2 2]\n",
      " [3 3]\n",
      " [1 1]]\n",
      "<class 'numpy.ndarray'> (4, 2)\n"
     ]
    }
   ],
   "source": [
    "np.random.shuffle(B)\n",
    "\n",
    "print(B)\n",
    "print(type(B), B.shape)"
   ]
  },
  {
   "cell_type": "code",
   "execution_count": null,
   "metadata": {},
   "outputs": [],
   "source": []
  }
 ],
 "metadata": {
  "kernelspec": {
   "display_name": "Python 3",
   "language": "python",
   "name": "python3"
  },
  "language_info": {
   "codemirror_mode": {
    "name": "ipython",
    "version": 3
   },
   "file_extension": ".py",
   "mimetype": "text/x-python",
   "name": "python",
   "nbconvert_exporter": "python",
   "pygments_lexer": "ipython3",
   "version": "3.7.3"
  }
 },
 "nbformat": 4,
 "nbformat_minor": 2
}

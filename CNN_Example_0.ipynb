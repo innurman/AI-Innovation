{
  "nbformat": 4,
  "nbformat_minor": 0,
  "metadata": {
    "kernelspec": {
      "display_name": "Python 3",
      "language": "python",
      "name": "python3"
    },
    "language_info": {
      "codemirror_mode": {
        "name": "ipython",
        "version": 3
      },
      "file_extension": ".py",
      "mimetype": "text/x-python",
      "name": "python",
      "nbconvert_exporter": "python",
      "pygments_lexer": "ipython3",
      "version": "3.7.3"
    },
    "colab": {
      "name": "CNN_Example_0.ipynb",
      "provenance": [],
      "collapsed_sections": []
    }
  },
  "cells": [
    {
      "cell_type": "markdown",
      "metadata": {
        "id": "nwhO_AlIUsBB",
        "colab_type": "text"
      },
      "source": [
        "#### [예제 0] 컨벌루션 및 맥스풀링 파이썬 코드 구현 및 컨벌루션 결과 이미지 확인"
      ]
    },
    {
      "cell_type": "code",
      "metadata": {
        "id": "DhtfWPY5UsBE",
        "colab_type": "code",
        "colab": {
          "base_uri": "https://localhost:8080/",
          "height": 358
        },
        "outputId": "f469e132-8cf5-4cc2-d2ca-67eb28535fd7"
      },
      "source": [
        "%tensorflow_version 1.x\n",
        "\n",
        "import tensorflow as tf\n",
        "from tensorflow.examples.tutorials.mnist import input_data\n",
        "import matplotlib.pyplot as plt\n",
        "\n",
        "# mnist download\n",
        "mnist = input_data.read_data_sets(\"MNIST_data/\", one_hot=True)\n",
        "\n",
        "plt.imshow(mnist.train.images[2].reshape(28,28), cmap='gray') # 2 번째 데이터"
      ],
      "execution_count": 11,
      "outputs": [
        {
          "output_type": "stream",
          "text": [
            "Extracting MNIST_data/train-images-idx3-ubyte.gz\n",
            "Extracting MNIST_data/train-labels-idx1-ubyte.gz\n",
            "Extracting MNIST_data/t10k-images-idx3-ubyte.gz\n",
            "Extracting MNIST_data/t10k-labels-idx1-ubyte.gz\n"
          ],
          "name": "stdout"
        },
        {
          "output_type": "execute_result",
          "data": {
            "text/plain": [
              "<matplotlib.image.AxesImage at 0x7f39e935ab00>"
            ]
          },
          "metadata": {
            "tags": []
          },
          "execution_count": 11
        },
        {
          "output_type": "display_data",
          "data": {
            "image/png": "[encoded data removed]",
            "text/plain": [
              "<Figure size 432x288 with 1 Axes>"
            ]
          },
          "metadata": {
            "tags": [],
            "needs_background": "light"
          }
        }
      ]
    },
    {
      "cell_type": "markdown",
      "metadata": {
        "id": "u5E7hcGfUsBL",
        "colab_type": "text"
      },
      "source": [
        "#### 이미지 필터 정의"
      ]
    },
    {
      "cell_type": "code",
      "metadata": {
        "id": "d1rf6-t-UsBM",
        "colab_type": "code",
        "colab": {
          "base_uri": "https://localhost:8080/",
          "height": 36
        },
        "outputId": "f62fa787-be29-4df1-d88a-c6d93b931855"
      },
      "source": [
        "import numpy as np\n",
        "\n",
        "horizontal_filter = np.array([[1., 1., 1.], \n",
        "                             [0., 0., 0.], \n",
        "                             [-1., -1., -1.]])\n",
        "\n",
        "vertical_filter = np.array([[1., 0., -1.],\n",
        "                           [1., 0., -1.],\n",
        "                           [1., 0., -1.]])\n",
        "\n",
        "sharpen_filter = np.array([[0., -1., 0.],\n",
        "                           [-1., 5., -1.],\n",
        "                           [0., -1., 0.]])\n",
        "\n",
        "blur_filter = np.array([[0.11, 0.11, 0.11],\n",
        "                        [0.11, 0.11, 0.11],\n",
        "                        [0.11, 0.11, 0.11]])\n",
        "\n",
        "edge_1_filter = np.array([[1., 0., -1.],\n",
        "                           [0., 0., 0.],\n",
        "                           [-1., 0., 1.]])\n",
        "\n",
        "edge_2_filter = np.array([[0., -1., 0.],\n",
        "                           [-1., 4., -1.],\n",
        "                           [0., -1., 0.]])\n",
        "\n",
        "edge_3_filter = np.array([[-1., -1., -1.],\n",
        "                           [-1., 8., -1.],\n",
        "                           [-1., -1., -1.]])\n",
        "\n",
        "\n",
        "test_image = mnist.train.images[2].reshape(28,28)\n",
        "original_image_size = test_image.shape[0]\n",
        "conv_output_size = int((original_image_size - 3)/1 + 1)\n",
        "print('output size = ', conv_output_size)"
      ],
      "execution_count": 16,
      "outputs": [
        {
          "output_type": "stream",
          "text": [
            "output size =  26\n"
          ],
          "name": "stdout"
        }
      ]
    },
    {
      "cell_type": "code",
      "metadata": {
        "id": "NsHzaufQ73Oa",
        "colab_type": "code",
        "colab": {}
      },
      "source": [
        "filter_size = 3\n",
        "\n",
        "def get_filtered_image(filter):\n",
        "    filtered_image = np.zeros((conv_output_size, conv_output_size))\n",
        "    for i in range(conv_output_size):\n",
        "        for j in range(conv_output_size):\n",
        "            # 합성곱 연산\n",
        "            indice_image = test_image[i:(i + filter_size), j:(j + filter_size)] * filter\n",
        "            indice_sum = np.sum(indice_image)\n",
        "\n",
        "            if(indice_sum > 255):\n",
        "                indice_sum = 255\n",
        "            filtered_image[i, j] = indice_sum\n",
        "      \n",
        "    return filtered_image"
      ],
      "execution_count": 17,
      "outputs": []
    },
    {
      "cell_type": "markdown",
      "metadata": {
        "id": "F7CxnkMFUsBT",
        "colab_type": "text"
      },
      "source": [
        "#### 컨볼루션 결과 이미지 확인"
      ]
    },
    {
      "cell_type": "code",
      "metadata": {
        "id": "XXXB1pdIUsBU",
        "colab_type": "code",
        "colab": {
          "base_uri": "https://localhost:8080/",
          "height": 216
        },
        "outputId": "437a73a1-1de8-40e7-b59d-a34d591c7e97"
      },
      "source": [
        "vertical_filtered_image = get_filtered_image(vertical_filter)\n",
        "horizontal_filtered_image = get_filtered_image(horizontal_filter)\n",
        "\n",
        "plt.subplot(1, 2, 1)\n",
        "plt.title('vertical')\n",
        "plt.imshow(vertical_filtered_image, cmap='gray')\n",
        "\n",
        "plt.subplot(1, 2, 2)\n",
        "plt.title('horizontal')\n",
        "plt.imshow(horizontal_filtered_image, cmap='gray')\n",
        "plt.show()"
      ],
      "execution_count": 18,
      "outputs": [
        {
          "output_type": "display_data",
          "data": {
            "image/png": "[encoded data removed]",
            "text/plain": [
              "<Figure size 432x288 with 2 Axes>"
            ]
          },
          "metadata": {
            "tags": [],
            "needs_background": "light"
          }
        }
      ]
    },
    {
      "cell_type": "code",
      "metadata": {
        "id": "c5Tqwm816JgG",
        "colab_type": "code",
        "colab": {
          "base_uri": "https://localhost:8080/",
          "height": 216
        },
        "outputId": "030c9f2d-bb47-4edf-ddf2-89cb0b516347"
      },
      "source": [
        "blur_filtered_image = get_filtered_image(blur_filter)\n",
        "sharpen_filtered_image = get_filtered_image(sharpen_filter)\n",
        "\n",
        "plt.subplot(1, 2, 1)\n",
        "plt.title('blur')\n",
        "plt.imshow(blur_filtered_image, cmap='gray')\n",
        "\n",
        "plt.subplot(1, 2, 2)\n",
        "plt.title('sharpen')\n",
        "plt.imshow(sharpen_filtered_image, cmap='gray')\n",
        "plt.show()"
      ],
      "execution_count": 19,
      "outputs": [
        {
          "output_type": "display_data",
          "data": {
            "image/png": "[encoded data removed]",
            "text/plain": [
              "<Figure size 432x288 with 2 Axes>"
            ]
          },
          "metadata": {
            "tags": [],
            "needs_background": "light"
          }
        }
      ]
    },
    {
      "cell_type": "code",
      "metadata": {
        "id": "VE7d1l0i79Sh",
        "colab_type": "code",
        "colab": {
          "base_uri": "https://localhost:8080/",
          "height": 216
        },
        "outputId": "a5f79d95-5adc-4ab7-e318-4046d6fbec4c"
      },
      "source": [
        "edge_1_filtered_image = get_filtered_image(edge_1_filter)\n",
        "edge_2_filtered_image = get_filtered_image(edge_2_filter)\n",
        "\n",
        "plt.subplot(1, 2, 1)\n",
        "plt.title('edge1')\n",
        "plt.imshow(edge_1_filtered_image,cmap='gray')\n",
        "\n",
        "plt.subplot(1, 2, 2)\n",
        "plt.title('edge2')\n",
        "plt.imshow(edge_2_filtered_image,cmap='gray')\n",
        "plt.show()"
      ],
      "execution_count": 20,
      "outputs": [
        {
          "output_type": "display_data",
          "data": {
            "image/png": "[encoded data removed]",
            "text/plain": [
              "<Figure size 432x288 with 2 Axes>"
            ]
          },
          "metadata": {
            "tags": [],
            "needs_background": "light"
          }
        }
      ]
    },
    {
      "cell_type": "code",
      "metadata": {
        "id": "RT2KofeD8lSw",
        "colab_type": "code",
        "colab": {
          "base_uri": "https://localhost:8080/",
          "height": 216
        },
        "outputId": "d7359326-b5e2-4d32-aa41-b4939defd64b"
      },
      "source": [
        "edge_3_filtered_image = get_filtered_image(edge_3_filter)\n",
        "\n",
        "plt.subplot(1, 2, 1)\n",
        "plt.title('edge3')\n",
        "plt.imshow(edge_3_filtered_image,cmap='gray')\n",
        "plt.show()"
      ],
      "execution_count": 21,
      "outputs": [
        {
          "output_type": "display_data",
          "data": {
            "image/png": "[encoded data removed]",
            "text/plain": [
              "<Figure size 432x288 with 1 Axes>"
            ]
          },
          "metadata": {
            "tags": [],
            "needs_background": "light"
          }
        }
      ]
    },
    {
      "cell_type": "markdown",
      "metadata": {
        "id": "0DfXOenYUsBY",
        "colab_type": "text"
      },
      "source": [
        "#### 이미지 필터를 적용한 결과"
      ]
    },
    {
      "cell_type": "code",
      "metadata": {
        "id": "mN_PI73bUsBa",
        "colab_type": "code",
        "colab": {
          "base_uri": "https://localhost:8080/",
          "height": 283
        },
        "outputId": "a6a97582-0bb9-4695-c7e9-049e36d1f454"
      },
      "source": [
        "sobel_image = np.sqrt(np.square(horizontal_filtered_image) \n",
        "+ np.square(vertical_filtered_image)\n",
        "+np.square(blur_filtered_image)\n",
        "+np.square(sharpen_filtered_image))\n",
        "\n",
        "plt.imshow(sobel_image,cmap='gray')"
      ],
      "execution_count": 22,
      "outputs": [
        {
          "output_type": "execute_result",
          "data": {
            "text/plain": [
              "<matplotlib.image.AxesImage at 0x7f39e90a2c50>"
            ]
          },
          "metadata": {
            "tags": []
          },
          "execution_count": 22
        },
        {
          "output_type": "display_data",
          "data": {
            "image/png": "[encoded data removed]",
            "text/plain": [
              "<Figure size 432x288 with 1 Axes>"
            ]
          },
          "metadata": {
            "tags": [],
            "needs_background": "light"
          }
        }
      ]
    },
    {
      "cell_type": "code",
      "metadata": {
        "id": "An4HUnJaXdD5",
        "colab_type": "code",
        "colab": {}
      },
      "source": [
        ""
      ],
      "execution_count": null,
      "outputs": []
    }
  ]
}
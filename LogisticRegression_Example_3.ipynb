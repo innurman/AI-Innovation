{
 "cells": [
  {
   "cell_type": "code",
   "execution_count": 1,
   "metadata": {},
   "outputs": [],
   "source": [
    "import numpy as np\n",
    "from datetime import datetime\n",
    "import matplotlib.pyplot as plt\n",
    "\n",
    "np.random.seed(0)\n",
    "\n",
    "def numerical_derivative(f, x):\n",
    "    delta_x = 1e-4 # 0.0001\n",
    "    grad = np.zeros_like(x)\n",
    "    \n",
    "    it = np.nditer(x, flags=['multi_index'], op_flags=['readwrite'])\n",
    "    \n",
    "    while not it.finished:\n",
    "        idx = it.multi_index        \n",
    "        tmp_val = x[idx]\n",
    "        x[idx] = float(tmp_val) + delta_x\n",
    "        fx1 = f(x) # f(x+delta_x)\n",
    "        \n",
    "        x[idx] = float(tmp_val) - delta_x \n",
    "        fx2 = f(x) # f(x-delta_x)\n",
    "        grad[idx] = (fx1 - fx2) / (2*delta_x)\n",
    "        \n",
    "        x[idx] = tmp_val \n",
    "        it.iternext()   \n",
    "        \n",
    "    return grad\n",
    "\n",
    "\n",
    "def sigmoid(z):\n",
    "    \n",
    "    return 1 / (1+np.exp(-z))"
   ]
  },
  {
   "cell_type": "code",
   "execution_count": 6,
   "metadata": {},
   "outputs": [],
   "source": [
    "class SimpleTest:\n",
    "    \n",
    "    # constructor\n",
    "    def __init__(self, xdata, tdata, learning_rate, iteration_count):\n",
    "            \n",
    "        # 가중치 W 형상을 자동으로 구하기 위해 입력데이터가 vector 인지,\n",
    "        # 아니면 matrix 인지 체크 후, \n",
    "        # self.xdata 는 무조건 matrix 로 만들어 주면 코드 일관성이 있음\n",
    "        \n",
    "        if xdata.ndim == 1:    # vector\n",
    "            self.xdata = xdata.reshape(len(xdata), 1)\n",
    "            self.tdata = xdata.reshape(len(tdata), 1)\n",
    "            \n",
    "        elif xdata.ndim == 2:  # matrix\n",
    "            self.xdata = xdata\n",
    "            self.tdata = tdata\n",
    "        \n",
    "        self.learning_rate = learning_rate\n",
    "        self.iteration_count = iteration_count\n",
    "        \n",
    "        self.W = np.random.rand(self.xdata.shape[1], 1) \n",
    "        self.b = np.random.rand(1)\n",
    "        \n",
    "        self.loss_val_list = []\n",
    "        \n",
    "        print(\"SimpleTest Object is created\")\n",
    "\n",
    "    \n",
    "    # loss function\n",
    "    def loss_func(self):\n",
    "    \n",
    "        delta = 1e-7\n",
    "        \n",
    "        z = np.dot(self.xdata, self.W) + self.b\n",
    "        \n",
    "        y = sigmoid(z)\n",
    "            \n",
    "        # cross-entropy \n",
    "        return  -np.sum( self.tdata*np.log(y + delta) + (1-self.tdata)*np.log((1 - y)+delta ) ) \n",
    "\n",
    "    \n",
    "    # display current error value\n",
    "    def error_val(self):\n",
    "        \n",
    "        delta = 1e-7\n",
    "        \n",
    "        z = np.dot(self.xdata, self.W) + self.b\n",
    "        \n",
    "        y = sigmoid(z)\n",
    "            \n",
    "        # cross-entropy \n",
    "        return  -np.sum( self.tdata*np.log(y + delta) + (1-self.tdata)*np.log((1 - y)+delta ) ) \n",
    "\n",
    "    \n",
    "    # predict method\n",
    "    # 학습을 마친 후, 임의의 데이터에 대해 미래 값 예측 함수\n",
    "    # 입력변수 x : numpy type\n",
    "    def predict(self, test_data):\n",
    "    \n",
    "        z = np.dot(test_data, self.W) + self.b\n",
    "        y = sigmoid(z)\n",
    "    \n",
    "        if y >= 0.5:\n",
    "            result = 1  # True\n",
    "        else:\n",
    "            result = 0  # False\n",
    "    \n",
    "        return y, result\n",
    "    \n",
    "    \n",
    "    def display_lossval_trend(self):\n",
    "        \n",
    "        plt.title('Loss Value Trend')\n",
    "        plt.xlabel('epochs ( X 1000)')\n",
    "        plt.ylabel('loss value')\n",
    "        plt.grid()\n",
    "\n",
    "        label_str = 'lr=' + str(self.learning_rate) + ', epoch=' + str(self.iteration_count)\n",
    "        \n",
    "        plt.plot(self.loss_val_list, ls='--', lw=2, color='r', label=label_str)\n",
    "        plt.legend(loc='best')\n",
    "\n",
    "        plt.show()\n",
    "        \n",
    "    # train method\n",
    "    def train(self):\n",
    "    \n",
    "        f = lambda x : self.loss_func()\n",
    "\n",
    "        print(\"Initial error value = \", self.error_val() )\n",
    "\n",
    "        start_time = datetime.now()\n",
    "        \n",
    "        for step in  range(self.iteration_count):  \n",
    "    \n",
    "            self.W -= self.learning_rate * numerical_derivative(f, self.W)\n",
    "    \n",
    "            self.b -= self.learning_rate * numerical_derivative(f, self.b)\n",
    "    \n",
    "            if (step % (int)(0.05*self.iteration_count) == 0):  # 반복횟수의 5% 마다 출력\n",
    "            \n",
    "                current_loss_val = self.error_val()                \n",
    "                print(\"step = \", step, \"error value = \", current_loss_val )                \n",
    "                self.loss_val_list.append(current_loss_val)\n",
    "                \n",
    "                \n",
    "        end_time = datetime.now()\n",
    "        \n",
    "        print(\"\")\n",
    "        print(\"Elapsed Time => \", end_time - start_time)"
   ]
  },
  {
   "cell_type": "code",
   "execution_count": 7,
   "metadata": {},
   "outputs": [
    {
     "name": "stdout",
     "output_type": "stream",
     "text": [
      "x_data.shape =  (9, 2) , t_data.shape =  (9, 1)\n"
     ]
    }
   ],
   "source": [
    "# 입력데이터 / 정답데이터 세팅\n",
    "\n",
    "x_data = np.array( [ [2, 4], [4, 11], [6, 6], [8, 5], [10, 7], [12, 16], [14, 8], [16, 3], [18, 7] ] )\n",
    "t_data = np.array( [0, 0, 0, 0, 1, 1, 1, 1, 1] ).reshape(9, 1)\n",
    "\n",
    "print(\"x_data.shape = \", x_data.shape, \", t_data.shape = \", t_data.shape)"
   ]
  },
  {
   "cell_type": "markdown",
   "metadata": {},
   "source": [
    "### learning_rate = 1e-2,  반복횟수 100,000번 수행하는 obj1"
   ]
  },
  {
   "cell_type": "code",
   "execution_count": 8,
   "metadata": {},
   "outputs": [
    {
     "name": "stdout",
     "output_type": "stream",
     "text": [
      "SimpleTest Object is created\n",
      "Initial error value =  24.530845735803375\n",
      "step =  0 error value =  13.84193522570496\n",
      "step =  5000 error value =  0.6057347936138725\n",
      "step =  10000 error value =  0.404752181694653\n",
      "step =  15000 error value =  0.307254085534242\n",
      "step =  20000 error value =  0.24752574262890575\n",
      "step =  25000 error value =  0.20704534521109624\n",
      "step =  30000 error value =  0.1778168859460816\n",
      "step =  35000 error value =  0.15574150180467605\n",
      "step =  40000 error value =  0.1384927305520226\n",
      "step =  45000 error value =  0.12465169975086984\n",
      "step =  50000 error value =  0.11330436681434057\n",
      "step =  55000 error value =  0.10383572614160616\n",
      "step =  60000 error value =  0.09581700930378508\n",
      "step =  65000 error value =  0.08894029934147153\n",
      "step =  70000 error value =  0.08297884587377145\n",
      "step =  75000 error value =  0.07776203083335073\n",
      "step =  80000 error value =  0.07315904719234392\n",
      "step =  85000 error value =  0.06906795073077539\n",
      "step =  90000 error value =  0.06540813093680108\n",
      "step =  95000 error value =  0.06211501836433562\n",
      "step =  100000 error value =  0.059136290865152694\n",
      "\n",
      "Elapsed Time =>  0:00:31.706224\n"
     ]
    }
   ],
   "source": [
    "obj1 = SimpleTest(x_data, t_data, 1e-2, 100001)\n",
    "\n",
    "obj1.train()"
   ]
  },
  {
   "cell_type": "code",
   "execution_count": 9,
   "metadata": {},
   "outputs": [
    {
     "name": "stdout",
     "output_type": "stream",
     "text": [
      "[0.15440894] 0\n"
     ]
    }
   ],
   "source": [
    "test_data = np.array([3, 17])\n",
    "\n",
    "(real_val, logical_val) = obj1.predict(test_data)\n",
    "\n",
    "print(real_val, logical_val)"
   ]
  },
  {
   "cell_type": "code",
   "execution_count": 10,
   "metadata": {},
   "outputs": [
    {
     "name": "stdout",
     "output_type": "stream",
     "text": [
      "[0.00071376] 0\n"
     ]
    }
   ],
   "source": [
    "test_data = np.array([5, 8])\n",
    "\n",
    "(real_val, logical_val) = obj1.predict(test_data)\n",
    "\n",
    "print(real_val, logical_val)"
   ]
  },
  {
   "cell_type": "code",
   "execution_count": 11,
   "metadata": {},
   "outputs": [
    {
     "name": "stdout",
     "output_type": "stream",
     "text": [
      "[0.99999641] 1\n"
     ]
    }
   ],
   "source": [
    "test_data = np.array([7, 21])\n",
    "\n",
    "(real_val, logical_val) = obj1.predict(test_data)\n",
    "\n",
    "print(real_val, logical_val)"
   ]
  },
  {
   "cell_type": "code",
   "execution_count": 12,
   "metadata": {},
   "outputs": [
    {
     "name": "stdout",
     "output_type": "stream",
     "text": [
      "[0.59987656] 1\n"
     ]
    }
   ],
   "source": [
    "test_data = np.array([12, 0])\n",
    "\n",
    "(real_val, logical_val) = obj1.predict(test_data)\n",
    "\n",
    "print(real_val, logical_val)"
   ]
  },
  {
   "cell_type": "code",
   "execution_count": 13,
   "metadata": {},
   "outputs": [
    {
     "data": {
      "image/png": "[encoded data removed]",
      "text/plain": [
       "<Figure size 432x288 with 1 Axes>"
      ]
     },
     "metadata": {
      "needs_background": "light"
     },
     "output_type": "display_data"
    }
   ],
   "source": [
    "obj1.display_lossval_trend()"
   ]
  }
 ],
 "metadata": {
  "anaconda-cloud": {},
  "kernelspec": {
   "display_name": "Python 3",
   "language": "python",
   "name": "python3"
  },
  "language_info": {
   "codemirror_mode": {
    "name": "ipython",
    "version": 3
   },
   "file_extension": ".py",
   "mimetype": "text/x-python",
   "name": "python",
   "nbconvert_exporter": "python",
   "pygments_lexer": "ipython3",
   "version": "3.7.3"
  }
 },
 "nbformat": 4,
 "nbformat_minor": 1
}

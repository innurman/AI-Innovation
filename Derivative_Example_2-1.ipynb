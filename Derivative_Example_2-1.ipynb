{
  "nbformat": 4,
  "nbformat_minor": 0,
  "metadata": {
    "anaconda-cloud": {},
    "kernelspec": {
      "display_name": "Python 3",
      "language": "python",
      "name": "python3"
    },
    "language_info": {
      "codemirror_mode": {
        "name": "ipython",
        "version": 3
      },
      "file_extension": ".py",
      "mimetype": "text/x-python",
      "name": "python",
      "nbconvert_exporter": "python",
      "pygments_lexer": "ipython3",
      "version": "3.7.3"
    },
    "colab": {
      "name": "Derivative_Example_2.ipynb",
      "provenance": []
    }
  },
  "cells": [
    {
      "cell_type": "markdown",
      "metadata": {
        "id": "fjnFzqfTkwRL",
        "colab_type": "text"
      },
      "source": [
        "### [예제 2.1] "
      ]
    },
    {
      "cell_type": "code",
      "metadata": {
        "id": "ueewiBJ-kwRM",
        "colab_type": "code",
        "colab": {}
      },
      "source": [
        "import numpy as np\n",
        "\n",
        "def numerical_derivative(f, x):    # 수치미분 debug version\n",
        "    delta_x = 1e-4 \n",
        "    grad = np.zeros_like(x)\n",
        "    print(\"debug 1. initial input variable =\", x)   \n",
        "    print(\"debug 2. initial grad =\", grad) \n",
        "    print(\"=======================================\")\n",
        "    \n",
        "    it = np.nditer(x, flags=['multi_index'], op_flags=['readwrite'])\n",
        "    \n",
        "    while not it.finished:\n",
        "        idx = it.multi_index\n",
        "        \n",
        "        print(\"debug 3. idx = \", idx, \", x[idx] = \", x[idx])   \n",
        "        \n",
        "        tmp_val = x[idx]\n",
        "        x[idx] = float(tmp_val) + delta_x\n",
        "        fx1 = f(x)   # f(x+delta_x)\n",
        "        \n",
        "        x[idx] = float(tmp_val) - delta_x \n",
        "        fx2 = f(x)   # f(x-delta_x)\n",
        "        grad[idx] = (fx1 - fx2) / (2*delta_x)\n",
        "                \n",
        "        print(\"debug 4. grad[idx] = \", grad[idx])   \n",
        "        print(\"debug 5. grad = \", grad) \n",
        "        print(\"=======================================\")\n",
        "        \n",
        "        x[idx] = tmp_val\n",
        "        it.iternext()   \n",
        "        \n",
        "    return grad"
      ],
      "execution_count": 0,
      "outputs": []
    },
    {
      "cell_type": "code",
      "metadata": {
        "id": "hSQYRCpZkwRP",
        "colab_type": "code",
        "colab": {},
        "outputId": "0e961b31-963c-4fa3-b957-4a44b6f24f28"
      },
      "source": [
        "# 입력변수 1 개인 함수 f(x) = x**2\n",
        "def func1(W):    \n",
        "    \n",
        "    x = W\n",
        "    \n",
        "    return  x**2  \n",
        "\n",
        "\n",
        "# lambda function 정의\n",
        "f = lambda W : func1(W)\n",
        "\n",
        "W = np.array([3.0])\n",
        "\n",
        "# x = 3.0 에서의 편미분 값\n",
        "ret = numerical_derivative( f, W ) \n",
        "\n",
        "print('type(ret) = ', type(ret), ', ret_val = ', ret) "
      ],
      "execution_count": 0,
      "outputs": [
        {
          "output_type": "stream",
          "text": [
            "debug 1. initial input variable = [3.]\n",
            "debug 2. initial grad = [0.]\n",
            "=======================================\n",
            "debug 3. idx =  (0,) , x[idx] =  3.0\n",
            "debug 4. grad[idx] =  6.000000000039306\n",
            "debug 5. grad =  [6.]\n",
            "=======================================\n",
            "type(ret) =  <class 'numpy.ndarray'> , ret_val =  [6.]\n"
          ],
          "name": "stdout"
        }
      ]
    },
    {
      "cell_type": "code",
      "metadata": {
        "id": "boTy2uv0kwRm",
        "colab_type": "code",
        "colab": {}
      },
      "source": [
        ""
      ],
      "execution_count": 0,
      "outputs": []
    }
  ]
}
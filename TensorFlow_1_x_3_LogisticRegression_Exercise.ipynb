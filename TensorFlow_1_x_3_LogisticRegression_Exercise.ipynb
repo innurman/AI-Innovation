{
  "nbformat": 4,
  "nbformat_minor": 0,
  "metadata": {
    "colab": {
      "name": "TensorFlow_1_x_3_LogisticRegression_Exercise.ipynb",
      "provenance": [],
      "collapsed_sections": []
    },
    "kernelspec": {
      "display_name": "Python 3",
      "language": "python",
      "name": "python3"
    },
    "language_info": {
      "codemirror_mode": {
        "name": "ipython",
        "version": 3
      },
      "file_extension": ".py",
      "mimetype": "text/x-python",
      "name": "python",
      "nbconvert_exporter": "python",
      "pygments_lexer": "ipython3",
      "version": "3.7.3"
    },
    "accelerator": "GPU"
  },
  "cells": [
    {
      "cell_type": "markdown",
      "metadata": {
        "colab_type": "text",
        "id": "_MGTTOtFTWTe"
      },
      "source": [
        "### TensorFlow_1.x_3_Exercise\n",
        "#### diabetes.csv 에 대한 Logistic Regression"
      ]
    },
    {
      "cell_type": "code",
      "metadata": {
        "colab_type": "code",
        "id": "6rdI0UW_TLUR",
        "colab": {
          "base_uri": "https://localhost:8080/",
          "height": 52
        },
        "outputId": "3c6456f2-6ace-400f-cd5a-1168236233c1"
      },
      "source": [
        "%tensorflow_version 1.x\n",
        "\n",
        "import tensorflow as tf\n",
        "\n",
        "tf.__version__"
      ],
      "execution_count": 1,
      "outputs": [
        {
          "output_type": "stream",
          "text": [
            "TensorFlow 1.x selected.\n"
          ],
          "name": "stdout"
        },
        {
          "output_type": "execute_result",
          "data": {
            "text/plain": [
              "'1.15.2'"
            ]
          },
          "metadata": {
            "tags": []
          },
          "execution_count": 1
        }
      ]
    },
    {
      "cell_type": "markdown",
      "metadata": {
        "colab_type": "text",
        "id": "y8oo0avzLILk"
      },
      "source": [
        "Google Colab 에서 Google Drive Mount 하는 기본 코드"
      ]
    },
    {
      "cell_type": "code",
      "metadata": {
        "colab_type": "code",
        "id": "m_FiibvqLSLR",
        "colab": {
          "base_uri": "https://localhost:8080/",
          "height": 126
        },
        "outputId": "d99814d5-c26f-4161-d70f-8ee8a3dcee42"
      },
      "source": [
        "from google.colab import drive   # colab 사용시 mount 하기 위한 용도. local 에서는 불필요\n",
        "\n",
        "drive.mount('/content/gdrive/')  # colab 사용시 mount 하기 위한 용도. local 에서는 불필요"
      ],
      "execution_count": 2,
      "outputs": [
        {
          "output_type": "stream",
          "text": [
            "Go to this URL in a browser: https://accounts.google.com/o/oauth2/auth?client_id=947318989803-6bn6qk8qdgf4n4g3pfee6491hc0brc4i.apps.googleusercontent.com&redirect_uri=urn%3aietf%3awg%3aoauth%3a2.0%3aoob&response_type=code&scope=email%20https%3a%2f%2fwww.googleapis.com%2fauth%2fdocs.test%20https%3a%2f%2fwww.googleapis.com%2fauth%2fdrive%20https%3a%2f%2fwww.googleapis.com%2fauth%2fdrive.photos.readonly%20https%3a%2f%2fwww.googleapis.com%2fauth%2fpeopleapi.readonly\n",
            "\n",
            "Enter your authorization code:\n",
            "··········\n",
            "Mounted at /content/gdrive/\n"
          ],
          "name": "stdout"
        }
      ]
    },
    {
      "cell_type": "markdown",
      "metadata": {
        "colab_type": "text",
        "id": "MWevb_LcOdIN"
      },
      "source": [
        "Google Drive Mount 시킨 후에, 작업 디렉토리로 이동"
      ]
    },
    {
      "cell_type": "code",
      "metadata": {
        "colab_type": "code",
        "id": "CzmhwEqfLb4P",
        "colab": {
          "base_uri": "https://localhost:8080/",
          "height": 35
        },
        "outputId": "db839700-5315-47ed-f8db-b06dd74b9b93"
      },
      "source": [
        "import os\n",
        "\n",
        "# TensorFlow 1.x working directory\n",
        "working_dir = 'tensorflow_1.x_working_dir'\n",
        "\n",
        "\n",
        "# Google Drive 에서 Colab Default Directory\n",
        "colab_default_dir = '/content/gdrive/My Drive/Colab Notebooks/'\n",
        "\n",
        "\n",
        "curr_dir = os.getcwd()  # save current dir\n",
        "\n",
        "try:\n",
        "\n",
        "    os.chdir(colab_default_dir)\n",
        "\n",
        "    if not os.path.exists(working_dir):\n",
        "\n",
        "        os.mkdir(working_dir)\n",
        "\n",
        "    os.chdir(working_dir)  # change working dir\n",
        "\n",
        "    print('current dir = ', os.getcwd())\n",
        "\n",
        "except Exception as err:\n",
        "\n",
        "    # 원래의 dir 로 복귀\n",
        "    os.chdir(curr_dir)\n",
        "    print(str(err))"
      ],
      "execution_count": 3,
      "outputs": [
        {
          "output_type": "stream",
          "text": [
            "current dir =  /content/gdrive/My Drive/Colab Notebooks/tensorflow_1.x_working_dir\n"
          ],
          "name": "stdout"
        }
      ]
    },
    {
      "cell_type": "code",
      "metadata": {
        "id": "XuwLlXYZpB-s",
        "colab_type": "code",
        "colab": {
          "base_uri": "https://localhost:8080/",
          "height": 35
        },
        "outputId": "b4bda76b-f087-4861-a9a0-9274d944b642"
      },
      "source": [
        "print(os.getcwd())"
      ],
      "execution_count": 5,
      "outputs": [
        {
          "output_type": "stream",
          "text": [
            "/content/gdrive/My Drive/Colab Notebooks/tensorflow_1.x_working_dir\n"
          ],
          "name": "stdout"
        }
      ]
    },
    {
      "cell_type": "code",
      "metadata": {
        "colab_type": "code",
        "id": "tiaXiJKSU0Az",
        "colab": {
          "base_uri": "https://localhost:8080/",
          "height": 52
        },
        "outputId": "46300977-ebd0-49f6-a576-09ed34a96d82"
      },
      "source": [
        "import tensorflow as tf\n",
        "import numpy as np\n",
        "\n",
        "loaded_data = np.loadtxt('./diabetes.csv', delimiter=',')\n",
        "\n",
        "x_data = loaded_data[ :, 0:-1]\n",
        "t_data = loaded_data[ :, [-1]]\n",
        "\n",
        "print(\"x_data.shape = \", x_data.shape)\n",
        "print(\"t_data.shape = \", t_data.shape)"
      ],
      "execution_count": 6,
      "outputs": [
        {
          "output_type": "stream",
          "text": [
            "x_data.shape =  (759, 8)\n",
            "t_data.shape =  (759, 1)\n"
          ],
          "name": "stdout"
        }
      ]
    },
    {
      "cell_type": "code",
      "metadata": {
        "colab_type": "code",
        "id": "THxAOR79U6Yr",
        "colab": {}
      },
      "source": [
        "X = tf.placeholder(tf.float32, [None, 8])  # 8개 입력노드\n",
        "T = tf.placeholder(tf.float32, [None, 1])  # 1개 정답노드\n",
        "\n",
        "W = tf.Variable(tf.random_normal([8, 1]))  # 가중치 노드\n",
        "b = tf.Variable(tf.random_normal([1]))     # 바이어스 노드"
      ],
      "execution_count": 7,
      "outputs": []
    },
    {
      "cell_type": "code",
      "metadata": {
        "colab_type": "code",
        "id": "5sPIhVUYaBcV",
        "colab": {}
      },
      "source": [
        "z = tf.matmul(X, W) + b  \n",
        "\n",
        "y = tf.sigmoid(z)\n",
        "\n",
        "# 손실함수는 Cross-Entropy \n",
        "loss = -tf.reduce_mean( T*tf.log(y) + (1-T)*tf.log(1-y) )"
      ],
      "execution_count": 8,
      "outputs": []
    },
    {
      "cell_type": "code",
      "metadata": {
        "colab_type": "code",
        "id": "WGFf-jYgYKMK",
        "colab": {}
      },
      "source": [
        "learning_rate = 0.01    # 학습율\n",
        "\n",
        "optimizer = tf.train.GradientDescentOptimizer(learning_rate)\n",
        "\n",
        "train = optimizer.minimize(loss)  "
      ],
      "execution_count": 9,
      "outputs": []
    },
    {
      "cell_type": "code",
      "metadata": {
        "colab_type": "code",
        "id": "m14yur1eYMzf",
        "colab": {}
      },
      "source": [
        "predicted = tf.cast(y > 0.5, dtype=tf.float32)  \n",
        "\n",
        "# predicted 와 T 같으면 True 를 리턴하므로 cast 에 의해서 1로 강제 변환, \n",
        "accuracy = tf.reduce_mean(tf.cast(tf.equal(predicted, T), dtype=tf.float32))"
      ],
      "execution_count": 10,
      "outputs": []
    },
    {
      "cell_type": "code",
      "metadata": {
        "colab_type": "code",
        "id": "m9DxyXd9YO-Z",
        "colab": {
          "base_uri": "https://localhost:8080/",
          "height": 814
        },
        "outputId": "bacbaa5c-17b6-42e9-ac0e-33aae2bd7b17"
      },
      "source": [
        "with  tf.Session()  as sess:\n",
        "    \n",
        "    sess.run(tf.global_variables_initializer())  # 변수 노드(tf.Variable) 초기화\n",
        "\n",
        "    for step in range(20001):\n",
        "      \n",
        "        loss_val, _ = sess.run([loss, train], feed_dict={X: x_data, T: t_data})    \n",
        "        \n",
        "        if step % 500 == 0:\n",
        "            print(\"step = \", step, \", loss_val = \", loss_val)             \n",
        "    \n",
        "    # Accuracy 확인\n",
        "    y_val, predicted_val, accuracy_val = sess.run([y, predicted, accuracy], feed_dict={X: x_data, T: t_data})\n",
        "    \n",
        "    \n",
        "    print(\"\\ny_val.shape = \", y_val.shape, \", predicted_val = \", predicted_val.shape)    \n",
        "    print(\"\\nAccuracy = \", accuracy_val)"
      ],
      "execution_count": 13,
      "outputs": [
        {
          "output_type": "stream",
          "text": [
            "step =  0 , loss_val =  0.9002543\n",
            "step =  500 , loss_val =  0.58783907\n",
            "step =  1000 , loss_val =  0.56649673\n",
            "step =  1500 , loss_val =  0.55133694\n",
            "step =  2000 , loss_val =  0.5394447\n",
            "step =  2500 , loss_val =  0.52995783\n",
            "step =  3000 , loss_val =  0.5222796\n",
            "step =  3500 , loss_val =  0.51598424\n",
            "step =  4000 , loss_val =  0.5107625\n",
            "step =  4500 , loss_val =  0.5063868\n",
            "step =  5000 , loss_val =  0.5026862\n",
            "step =  5500 , loss_val =  0.4995307\n",
            "step =  6000 , loss_val =  0.49682006\n",
            "step =  6500 , loss_val =  0.49447593\n",
            "step =  7000 , loss_val =  0.49243632\n",
            "step =  7500 , loss_val =  0.49065158\n",
            "step =  8000 , loss_val =  0.4890817\n",
            "step =  8500 , loss_val =  0.4876943\n",
            "step =  9000 , loss_val =  0.4864625\n",
            "step =  9500 , loss_val =  0.4853642\n",
            "step =  10000 , loss_val =  0.4843811\n",
            "step =  10500 , loss_val =  0.48349783\n",
            "step =  11000 , loss_val =  0.48270133\n",
            "step =  11500 , loss_val =  0.4819806\n",
            "step =  12000 , loss_val =  0.48132646\n",
            "step =  12500 , loss_val =  0.48073083\n",
            "step =  13000 , loss_val =  0.4801869\n",
            "step =  13500 , loss_val =  0.47968885\n",
            "step =  14000 , loss_val =  0.47923157\n",
            "step =  14500 , loss_val =  0.47881058\n",
            "step =  15000 , loss_val =  0.47842214\n",
            "step =  15500 , loss_val =  0.47806284\n",
            "step =  16000 , loss_val =  0.47772986\n",
            "step =  16500 , loss_val =  0.47742045\n",
            "step =  17000 , loss_val =  0.47713253\n",
            "step =  17500 , loss_val =  0.47686398\n",
            "step =  18000 , loss_val =  0.47661304\n",
            "step =  18500 , loss_val =  0.4763782\n",
            "step =  19000 , loss_val =  0.47615805\n",
            "step =  19500 , loss_val =  0.47595125\n",
            "step =  20000 , loss_val =  0.47575682\n",
            "\n",
            "y_val.shape =  (759, 1) , predicted_val =  (759, 1)\n",
            "\n",
            "Accuracy =  0.77338606\n"
          ],
          "name": "stdout"
        }
      ]
    },
    {
      "cell_type": "code",
      "metadata": {
        "colab_type": "code",
        "id": "TxlMiBnBYRoA",
        "colab": {}
      },
      "source": [
        ""
      ],
      "execution_count": null,
      "outputs": []
    }
  ]
}
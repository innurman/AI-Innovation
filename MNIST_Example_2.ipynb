{
 "cells": [
  {
   "cell_type": "markdown",
   "metadata": {},
   "source": [
    "### [예제 2] 입력 데이터 정규화, 정답데이터 one-hot encoding"
   ]
  },
  {
   "cell_type": "code",
   "execution_count": 1,
   "metadata": {},
   "outputs": [],
   "source": [
    "import numpy as np"
   ]
  },
  {
   "cell_type": "code",
   "execution_count": 2,
   "metadata": {},
   "outputs": [
    {
     "name": "stdout",
     "output_type": "stream",
     "text": [
      "training_data.shape =  (60000, 785)\n",
      "training_input_data.shape =  (60000, 784) , training_target_data.shape =  (60000,)\n"
     ]
    }
   ],
   "source": [
    "# training data \n",
    "\n",
    "try:\n",
    "    \n",
    "    training_data = np.loadtxt('./mnist_train.csv', delimiter=',', dtype=np.float32)\n",
    "\n",
    "    print(\"training_data.shape = \", training_data.shape)\n",
    "\n",
    "    training_input_data = training_data[ : , 1: ]\n",
    "    training_target_data = training_data[ : , 0 ]\n",
    "\n",
    "    print(\"training_input_data.shape = \", training_input_data.shape, ', training_target_data.shape = ', training_target_data.shape)\n",
    "    \n",
    "except Exception as err:\n",
    "    \n",
    "    print('Exception occur !!')"
   ]
  },
  {
   "cell_type": "code",
   "execution_count": 3,
   "metadata": {},
   "outputs": [
    {
     "name": "stdout",
     "output_type": "stream",
     "text": [
      "max_input_val =  255.0 , max_target_val =  9.0\n",
      "min_input_val =  0.0 , min_target_val =  0.0\n"
     ]
    }
   ],
   "source": [
    "# max / min\n",
    "max_input_val = np.max(training_input_data)\n",
    "max_target_val = np.max(training_target_data)\n",
    "\n",
    "min_input_val = np.min(training_input_data)\n",
    "min_target_val = np.min(training_target_data)\n",
    "\n",
    "print('max_input_val = ', max_input_val, ', max_target_val = ', max_target_val)\n",
    "print('min_input_val = ', min_input_val, ', min_target_val = ', min_target_val)"
   ]
  },
  {
   "cell_type": "code",
   "execution_count": 4,
   "metadata": {},
   "outputs": [
    {
     "name": "stdout",
     "output_type": "stream",
     "text": [
      "each_max_val =  [255. 255. 255. ... 255. 255. 255.] , len(each_max_val) =  60000\n",
      "each_min_val =  [0. 0. 0. ... 0. 0. 0.] , len(each_min_val) =  60000\n"
     ]
    }
   ],
   "source": [
    "each_max_val = np.max(training_input_data, axis=1)    # 각 행의 최대값\n",
    "each_min_val = np.min(training_input_data, axis=1)    # 각 행의 최소값\n",
    "\n",
    "print('each_max_val = ', each_max_val, ', len(each_max_val) = ', len(each_max_val))\n",
    "print('each_min_val = ', each_min_val, ', len(each_min_val) = ', len(each_min_val))\n",
    "\n",
    "# axis = 0 지정하면 각 열의 최대 값과 최소 값을 구할 수 있다"
   ]
  },
  {
   "cell_type": "code",
   "execution_count": 5,
   "metadata": {},
   "outputs": [
    {
     "name": "stdout",
     "output_type": "stream",
     "text": [
      "==================================================================================\n",
      "index =  0 , max_val =  1.0 , min_val =  0.01\n",
      "index =  0 , target_data =  [0.01 0.01 0.01 0.01 0.01 0.99 0.01 0.01 0.01 0.01]\n",
      "==================================================================================\n",
      "index =  2000 , max_val =  1.0 , min_val =  0.01\n",
      "index =  2000 , target_data =  [0.01 0.01 0.01 0.01 0.01 0.99 0.01 0.01 0.01 0.01]\n",
      "==================================================================================\n",
      "index =  4000 , max_val =  1.0 , min_val =  0.01\n",
      "index =  4000 , target_data =  [0.01 0.01 0.01 0.01 0.01 0.01 0.01 0.99 0.01 0.01]\n",
      "==================================================================================\n",
      "index =  6000 , max_val =  1.0 , min_val =  0.01\n",
      "index =  6000 , target_data =  [0.01 0.01 0.01 0.01 0.01 0.01 0.99 0.01 0.01 0.01]\n",
      "==================================================================================\n",
      "index =  8000 , max_val =  1.0 , min_val =  0.01\n",
      "index =  8000 , target_data =  [0.99 0.01 0.01 0.01 0.01 0.01 0.01 0.01 0.01 0.01]\n",
      "==================================================================================\n",
      "index =  10000 , max_val =  1.0 , min_val =  0.01\n",
      "index =  10000 , target_data =  [0.01 0.01 0.01 0.99 0.01 0.01 0.01 0.01 0.01 0.01]\n",
      "==================================================================================\n",
      "index =  12000 , max_val =  1.0 , min_val =  0.01\n",
      "index =  12000 , target_data =  [0.01 0.01 0.01 0.01 0.01 0.01 0.01 0.99 0.01 0.01]\n",
      "==================================================================================\n",
      "index =  14000 , max_val =  1.0 , min_val =  0.01\n",
      "index =  14000 , target_data =  [0.01 0.99 0.01 0.01 0.01 0.01 0.01 0.01 0.01 0.01]\n",
      "==================================================================================\n",
      "index =  16000 , max_val =  1.0 , min_val =  0.01\n",
      "index =  16000 , target_data =  [0.01 0.01 0.01 0.01 0.01 0.01 0.01 0.01 0.99 0.01]\n",
      "==================================================================================\n",
      "index =  18000 , max_val =  1.0 , min_val =  0.01\n",
      "index =  18000 , target_data =  [0.01 0.01 0.01 0.01 0.99 0.01 0.01 0.01 0.01 0.01]\n",
      "==================================================================================\n",
      "index =  20000 , max_val =  1.0 , min_val =  0.01\n",
      "index =  20000 , target_data =  [0.01 0.01 0.01 0.01 0.01 0.99 0.01 0.01 0.01 0.01]\n",
      "==================================================================================\n",
      "index =  22000 , max_val =  1.0 , min_val =  0.01\n",
      "index =  22000 , target_data =  [0.01 0.01 0.01 0.99 0.01 0.01 0.01 0.01 0.01 0.01]\n",
      "==================================================================================\n",
      "index =  24000 , max_val =  1.0 , min_val =  0.01\n",
      "index =  24000 , target_data =  [0.01 0.01 0.01 0.01 0.01 0.01 0.01 0.01 0.99 0.01]\n",
      "==================================================================================\n",
      "index =  26000 , max_val =  1.0 , min_val =  0.01\n",
      "index =  26000 , target_data =  [0.01 0.01 0.01 0.01 0.99 0.01 0.01 0.01 0.01 0.01]\n",
      "==================================================================================\n",
      "index =  28000 , max_val =  0.99611765 , min_val =  0.01\n",
      "index =  28000 , target_data =  [0.01 0.99 0.01 0.01 0.01 0.01 0.01 0.01 0.01 0.01]\n",
      "==================================================================================\n",
      "index =  30000 , max_val =  1.0 , min_val =  0.01\n",
      "index =  30000 , target_data =  [0.01 0.01 0.01 0.99 0.01 0.01 0.01 0.01 0.01 0.01]\n",
      "==================================================================================\n",
      "index =  32000 , max_val =  1.0 , min_val =  0.01\n",
      "index =  32000 , target_data =  [0.01 0.01 0.01 0.01 0.01 0.01 0.01 0.01 0.99 0.01]\n",
      "==================================================================================\n",
      "index =  34000 , max_val =  1.0 , min_val =  0.01\n",
      "index =  34000 , target_data =  [0.01 0.01 0.01 0.01 0.99 0.01 0.01 0.01 0.01 0.01]\n",
      "==================================================================================\n",
      "index =  36000 , max_val =  1.0 , min_val =  0.01\n",
      "index =  36000 , target_data =  [0.01 0.01 0.01 0.01 0.01 0.01 0.01 0.01 0.01 0.99]\n",
      "==================================================================================\n",
      "index =  38000 , max_val =  1.0 , min_val =  0.01\n",
      "index =  38000 , target_data =  [0.01 0.01 0.01 0.01 0.01 0.01 0.01 0.01 0.99 0.01]\n",
      "==================================================================================\n",
      "index =  40000 , max_val =  1.0 , min_val =  0.01\n",
      "index =  40000 , target_data =  [0.01 0.01 0.01 0.01 0.01 0.01 0.01 0.99 0.01 0.01]\n",
      "==================================================================================\n",
      "index =  42000 , max_val =  1.0 , min_val =  0.01\n",
      "index =  42000 , target_data =  [0.01 0.99 0.01 0.01 0.01 0.01 0.01 0.01 0.01 0.01]\n",
      "==================================================================================\n",
      "index =  44000 , max_val =  1.0 , min_val =  0.01\n",
      "index =  44000 , target_data =  [0.99 0.01 0.01 0.01 0.01 0.01 0.01 0.01 0.01 0.01]\n",
      "==================================================================================\n",
      "index =  46000 , max_val =  1.0 , min_val =  0.01\n",
      "index =  46000 , target_data =  [0.01 0.01 0.01 0.01 0.01 0.01 0.01 0.01 0.01 0.99]\n",
      "==================================================================================\n",
      "index =  48000 , max_val =  1.0 , min_val =  0.01\n",
      "index =  48000 , target_data =  [0.01 0.01 0.01 0.01 0.99 0.01 0.01 0.01 0.01 0.01]\n",
      "==================================================================================\n",
      "index =  50000 , max_val =  1.0 , min_val =  0.01\n",
      "index =  50000 , target_data =  [0.01 0.01 0.01 0.99 0.01 0.01 0.01 0.01 0.01 0.01]\n",
      "==================================================================================\n",
      "index =  52000 , max_val =  1.0 , min_val =  0.01\n",
      "index =  52000 , target_data =  [0.01 0.01 0.01 0.01 0.01 0.01 0.99 0.01 0.01 0.01]\n",
      "==================================================================================\n",
      "index =  54000 , max_val =  1.0 , min_val =  0.01\n",
      "index =  54000 , target_data =  [0.01 0.01 0.01 0.01 0.01 0.99 0.01 0.01 0.01 0.01]\n",
      "==================================================================================\n",
      "index =  56000 , max_val =  1.0 , min_val =  0.01\n",
      "index =  56000 , target_data =  [0.01 0.99 0.01 0.01 0.01 0.01 0.01 0.01 0.01 0.01]\n",
      "==================================================================================\n",
      "index =  58000 , max_val =  1.0 , min_val =  0.01\n",
      "index =  58000 , target_data =  [0.01 0.01 0.99 0.01 0.01 0.01 0.01 0.01 0.01 0.01]\n"
     ]
    }
   ],
   "source": [
    "# 입력데이터 정규화 ( 0.01 ~ 1.00 )\n",
    "# 정답데이터 one-hot encoding\n",
    "\n",
    "for index in range(len(training_data)):\n",
    "    \n",
    "    input_data = ((training_data[index, 1:] / 255.0) * 0.99) + 0.01\n",
    "    \n",
    "    max_val = np.max(input_data)\n",
    "    min_val = np.min(input_data)\n",
    "        \n",
    "    target_data = np.zeros(10) + 0.01    \n",
    "    target_data[int(training_data[index, 0])] = 0.99\n",
    "    \n",
    "    if index % 2000 == 0:\n",
    "        \n",
    "        print('==================================================================================')\n",
    "        print('index = ', index,', max_val = ', max_val, ', min_val = ', min_val)\n",
    "        print('index = ', index,', target_data = ', target_data)"
   ]
  },
  {
   "cell_type": "code",
   "execution_count": null,
   "metadata": {},
   "outputs": [],
   "source": []
  }
 ],
 "metadata": {
  "anaconda-cloud": {},
  "kernelspec": {
   "display_name": "Python 3",
   "language": "python",
   "name": "python3"
  },
  "language_info": {
   "codemirror_mode": {
    "name": "ipython",
    "version": 3
   },
   "file_extension": ".py",
   "mimetype": "text/x-python",
   "name": "python",
   "nbconvert_exporter": "python",
   "pygments_lexer": "ipython3",
   "version": "3.7.6"
  }
 },
 "nbformat": 4,
 "nbformat_minor": 1
}

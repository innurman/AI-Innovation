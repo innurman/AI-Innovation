{
 "cells": [
  {
   "cell_type": "markdown",
   "metadata": {},
   "source": [
    "### [예제 3] 은닉층 1개를 가지는 LogicGate class "
   ]
  },
  {
   "cell_type": "code",
   "execution_count": 1,
   "metadata": {},
   "outputs": [],
   "source": [
    "import numpy as np\n",
    "from datetime import datetime\n",
    "\n",
    "# 수치미분 함수\n",
    "\n",
    "def numerical_derivative(f, x):\n",
    "    delta_x = 1e-4 # 0.0001\n",
    "    grad = np.zeros_like(x)\n",
    "    \n",
    "    it = np.nditer(x, flags=['multi_index'], op_flags=['readwrite'])\n",
    "    \n",
    "    while not it.finished:\n",
    "        idx = it.multi_index        \n",
    "        tmp_val = x[idx]\n",
    "        x[idx] = float(tmp_val) + delta_x\n",
    "        fx1 = f(x) # f(x+delta_x)\n",
    "        \n",
    "        x[idx] = float(tmp_val) - delta_x \n",
    "        fx2 = f(x) # f(x-delta_x)\n",
    "        grad[idx] = (fx1 - fx2) / (2*delta_x)\n",
    "        \n",
    "        x[idx] = tmp_val \n",
    "        it.iternext()   \n",
    "        \n",
    "    return grad\n",
    "\n",
    "# sigmoid 함수\n",
    "\n",
    "def sigmoid(x):\n",
    "    return 1 / (1+np.exp(-x))"
   ]
  },
  {
   "cell_type": "code",
   "execution_count": 2,
   "metadata": {},
   "outputs": [],
   "source": [
    "# LogicGate Class\n",
    "\n",
    "class LogicGate:\n",
    "    \n",
    "    # 생성자\n",
    "    # xdata, tdata => numpy.array(...)\n",
    "    def __init__(self, gate_name, xdata, tdata, input_nodes, hidden_1_nodes, output_nodes, learning_rate, iteration_count):\n",
    "        \n",
    "        self.name = gate_name\n",
    "        \n",
    "        # 입력 데이터, 정답 데이터 초기화\n",
    "        self.xdata = xdata.reshape(4, 2)\n",
    "        self.tdata = tdata.reshape(4, 1)\n",
    "        \n",
    "        # 2층 hidden layer unit : \n",
    "        # 가중치 W, 바이어스 b 초기화\n",
    "        self.W2 = np.random.rand(input_nodes, hidden_1_nodes)  \n",
    "        self.b2 = np.random.rand(hidden_1_nodes)\n",
    "        \n",
    "        # 3층 output layer unit : 1 개 \n",
    "        self.W3 = np.random.rand(hidden_1_nodes, output_nodes)\n",
    "        self.b3 = np.random.rand(output_nodes)\n",
    "                        \n",
    "        # 학습률 learning rate 초기화\n",
    "        self.learning_rate = learning_rate\n",
    "        \n",
    "        # 반복횟수 초기화\n",
    "        self.iteration_count = iteration_count\n",
    "    \n",
    "        print(self.name + \" object is created\")\n",
    "        \n",
    "    # 손실함수\n",
    "    def feed_forward(self):\n",
    "        \n",
    "        delta = 1e-7    # log 무한대 발산 방지\n",
    "    \n",
    "        z2 = np.dot(self.xdata, self.W2) + self.b2\n",
    "        a2 = sigmoid(z2)\n",
    "        \n",
    "        z3 = np.dot(a2, self.W3) + self.b3\n",
    "        y = a3 = sigmoid(z3)\n",
    "    \n",
    "        # cross-entropy \n",
    "        return  -np.sum( self.tdata*np.log(y + delta) + (1-self.tdata)*np.log((1 - y)+delta ) )\n",
    "    \n",
    "    # obtain W and b\n",
    "    def get_W_b(self):\n",
    "        \n",
    "        return self.W2,  self.b2, self.W3, self.b3\n",
    "    \n",
    "    # 손실 값 계산\n",
    "    def loss_val(self):\n",
    "        \n",
    "        delta = 1e-7    # log 무한대 발산 방지\n",
    "    \n",
    "        z2 = np.dot(self.xdata, self.W2) + self.b2\n",
    "        a2 = sigmoid(z2)\n",
    "        \n",
    "        z3 = np.dot(a2, self.W3) + self.b3\n",
    "        y = a3 = sigmoid(z3)\n",
    "    \n",
    "        # cross-entropy \n",
    "        return  -np.sum( self.tdata*np.log(y + delta) + (1-self.tdata)*np.log((1 - y)+delta ) )\n",
    "    \n",
    "    # query, 즉 미래 값 예측 함수\n",
    "    def predict(self, xdata):\n",
    "        \n",
    "        z2 = np.dot(xdata, self.W2) + self.b2\n",
    "        a2 = sigmoid(z2)\n",
    "        \n",
    "        z3 = np.dot(a2, self.W3) + self.b3\n",
    "        y = a3 = sigmoid(z3)\n",
    "    \n",
    "        if y >= 0.5:\n",
    "            result = 1  # True\n",
    "        else:\n",
    "            result = 0  # False\n",
    "    \n",
    "        return y, result\n",
    "\n",
    "    # accuracy method \n",
    "    def accuracy(self, test_data):\n",
    "        \n",
    "        matched_list = []\n",
    "        not_matched_list = []\n",
    "        \n",
    "        input_data = test_data[ :, 0:-1]\n",
    "        target_data = test_data[ :, -1]\n",
    "        \n",
    "        for index in range(len(input_data)):\n",
    "            \n",
    "            (real_val, logical_val) = self.predict(input_data[index])\n",
    "            \n",
    "            if logical_val == target_data[index]:\n",
    "                matched_list.append(index)\n",
    "            else:\n",
    "                not_matched_list.append(index)\n",
    "                \n",
    "        accuracy_val = len(matched_list) / len(input_data)\n",
    "        \n",
    "        return accuracy_val\n",
    "        \n",
    "        \n",
    "    # 수치미분을 이용하여 손실함수가 최소가 될때 까지 학습하는 함수\n",
    "    def train(self):\n",
    "        \n",
    "        f = lambda x : self.feed_forward()\n",
    "        \n",
    "        print(\"Initial loss value = \", self.loss_val())\n",
    "        \n",
    "        start_time = datetime.now()\n",
    "        \n",
    "        for step in  range(self.iteration_count):\n",
    "            \n",
    "            self.W2 -= self.learning_rate * numerical_derivative(f, self.W2)\n",
    "    \n",
    "            self.b2 -= self.learning_rate * numerical_derivative(f, self.b2)\n",
    "        \n",
    "            self.W3 -= self.learning_rate * numerical_derivative(f, self.W3)\n",
    "    \n",
    "            self.b3 -= self.learning_rate * numerical_derivative(f, self.b3)\n",
    "    \n",
    "            if (step % 500 == 0):\n",
    "                print(\"step = \", step, \"loss value = \", self.loss_val())\n",
    "                \n",
    "        end_time = datetime.now()\n",
    "        \n",
    "        print(\"\")\n",
    "        print(\"Elapsed Time => \", end_time - start_time)"
   ]
  },
  {
   "cell_type": "code",
   "execution_count": 3,
   "metadata": {},
   "outputs": [
    {
     "name": "stdout",
     "output_type": "stream",
     "text": [
      "AND object is created\n",
      "Initial loss value =  9.688315119949811\n",
      "step =  0 loss value =  6.57241771839348\n",
      "step =  500 loss value =  0.20500012626685357\n",
      "step =  1000 loss value =  0.05682415247631471\n",
      "step =  1500 loss value =  0.030547673274890136\n",
      "step =  2000 loss value =  0.020389331758867098\n",
      "step =  2500 loss value =  0.015126861126972964\n",
      "step =  3000 loss value =  0.01194505765684446\n",
      "step =  3500 loss value =  0.009827874321734998\n",
      "step =  4000 loss value =  0.008324119322008088\n",
      "step =  4500 loss value =  0.007204324397520117\n",
      "step =  5000 loss value =  0.006340001595179216\n",
      "step =  5500 loss value =  0.005653836987183084\n",
      "step =  6000 loss value =  0.005096631910769077\n",
      "step =  6500 loss value =  0.004635644750438157\n",
      "step =  7000 loss value =  0.004248271912738093\n",
      "step =  7500 loss value =  0.003918423773687928\n",
      "step =  8000 loss value =  0.0036343466455406306\n",
      "step =  8500 loss value =  0.00338726112303469\n",
      "step =  9000 loss value =  0.003170481615747668\n",
      "step =  9500 loss value =  0.0029788301734519594\n",
      "step =  10000 loss value =  0.002808236164955299\n",
      "\n",
      "Elapsed Time =>  0:00:40.634372\n"
     ]
    }
   ],
   "source": [
    "and_xdata = np.array([ [0, 0], [0, 1], [1, 0], [1, 1] ])\n",
    "and_tdata = np.array([0, 0, 0, 1])\n",
    "\n",
    "input_nodes = 2\n",
    "hidden_1_nodes = 6\n",
    "output_nodes = 1\n",
    "\n",
    "lr = 1e-1  # learning rate\n",
    "count = 10001  # iteration count\n",
    "\n",
    "# AND Gate 객체 생성 및 training\n",
    "and_obj = LogicGate(\"AND\", and_xdata, and_tdata, input_nodes, hidden_1_nodes, output_nodes, lr, count)\n",
    "\n",
    "and_obj.train()"
   ]
  },
  {
   "cell_type": "code",
   "execution_count": 6,
   "metadata": {},
   "outputs": [
    {
     "name": "stdout",
     "output_type": "stream",
     "text": [
      "AND \n",
      "\n",
      "AND  Accuracy =>  1.0\n"
     ]
    }
   ],
   "source": [
    "# AND Gate prediction\n",
    "print(and_obj.name, \"\\n\")\n",
    "\n",
    "test_data = np.array([ [0, 0, 0], [0, 1, 0], [1, 0, 0], [1, 1, 1] ])\n",
    "\n",
    "accuracy_ret = and_obj.accuracy(test_data)\n",
    "\n",
    "print(and_obj.name, ' Accuracy => ', accuracy_ret)"
   ]
  },
  {
   "cell_type": "code",
   "execution_count": 7,
   "metadata": {},
   "outputs": [
    {
     "name": "stdout",
     "output_type": "stream",
     "text": [
      "OR object is created\n",
      "Initial loss value =  2.582609979895192\n",
      "step =  0 loss value =  2.435022872149788\n",
      "step =  500 loss value =  0.12542441032934573\n",
      "step =  1000 loss value =  0.039404260489446695\n",
      "step =  1500 loss value =  0.02171546451924782\n",
      "step =  2000 loss value =  0.014600008932195806\n",
      "step =  2500 loss value =  0.010854943293768592\n",
      "step =  3000 loss value =  0.00857361325340717\n",
      "step =  3500 loss value =  0.007049911576431077\n",
      "step =  4000 loss value =  0.005965674121673579\n",
      "step =  4500 loss value =  0.005157623192055102\n",
      "step =  5000 loss value =  0.004533794988020166\n",
      "step =  5500 loss value =  0.004038633886678442\n",
      "step =  6000 loss value =  0.003636691324563523\n",
      "step =  6500 loss value =  0.00330433234197611\n",
      "step =  7000 loss value =  0.003025219415229454\n",
      "step =  7500 loss value =  0.0027877132796615624\n",
      "step =  8000 loss value =  0.0025833066537750415\n",
      "step =  8500 loss value =  0.002405643020359796\n",
      "step =  9000 loss value =  0.0022498811414817656\n",
      "step =  9500 loss value =  0.0021122714592114143\n",
      "step =  10000 loss value =  0.001989866527913276\n",
      "\n",
      "Elapsed Time =>  0:00:42.842388\n"
     ]
    }
   ],
   "source": [
    "or_xdata = np.array([ [0, 0], [0, 1], [1, 0], [1, 1] ])\n",
    "or_tdata = np.array([0, 1, 1, 1])\n",
    "\n",
    "input_nodes = 2\n",
    "hidden_1_nodes = 6\n",
    "output_nodes = 1\n",
    "\n",
    "lr = 1e-1  # learning rate\n",
    "count = 10001  # iteration count\n",
    "\n",
    "# OR Gate 객체 생성 및 training\n",
    "or_obj = LogicGate(\"OR\", or_xdata, or_tdata, input_nodes, hidden_1_nodes, output_nodes, lr, count)\n",
    "\n",
    "or_obj.train()"
   ]
  },
  {
   "cell_type": "code",
   "execution_count": 8,
   "metadata": {},
   "outputs": [
    {
     "name": "stdout",
     "output_type": "stream",
     "text": [
      "OR \n",
      "\n",
      "OR  Accuracy =>  1.0\n"
     ]
    }
   ],
   "source": [
    "# OR Gate prediction\n",
    "print(or_obj.name, \"\\n\")\n",
    "\n",
    "test_data = np.array([ [0, 0, 0], [0, 1, 1], [1, 0, 1], [1, 1, 1] ])\n",
    "\n",
    "accuracy_ret = or_obj.accuracy(test_data)\n",
    "\n",
    "print(or_obj.name, ' Accuracy => ', accuracy_ret)"
   ]
  },
  {
   "cell_type": "code",
   "execution_count": 9,
   "metadata": {},
   "outputs": [
    {
     "name": "stdout",
     "output_type": "stream",
     "text": [
      "NAND object is created\n",
      "Initial loss value =  3.537699315382069\n",
      "step =  0 loss value =  3.2325806674417894\n",
      "step =  500 loss value =  0.1796290200872674\n",
      "step =  1000 loss value =  0.052937040855950704\n",
      "step =  1500 loss value =  0.02874896799442299\n",
      "step =  2000 loss value =  0.01922157310959876\n",
      "step =  2500 loss value =  0.014250881947258268\n",
      "step =  3000 loss value =  0.01123646734446544\n",
      "step =  3500 loss value =  0.009228302091079388\n",
      "step =  4000 loss value =  0.0078016209326189105\n",
      "step =  4500 loss value =  0.006739495977002475\n",
      "step =  5000 loss value =  0.005920140344601117\n",
      "step =  5500 loss value =  0.005270147641777478\n",
      "step =  6000 loss value =  0.004742754996469717\n",
      "step =  6500 loss value =  0.004306821015377259\n",
      "step =  7000 loss value =  0.003940838812280453\n",
      "step =  7500 loss value =  0.0036294969587374196\n",
      "step =  8000 loss value =  0.0033616102027700613\n",
      "step =  8500 loss value =  0.0031288246731455962\n",
      "step =  9000 loss value =  0.002924780105566975\n",
      "step =  9500 loss value =  0.00274455183404546\n",
      "step =  10000 loss value =  0.0025842695837220275\n",
      "\n",
      "Elapsed Time =>  0:00:39.207453\n"
     ]
    }
   ],
   "source": [
    "nand_xdata = np.array([ [0, 0], [0, 1], [1, 0], [1, 1] ])\n",
    "nand_tdata = np.array([1, 1, 1, 0])\n",
    "\n",
    "input_nodes = 2\n",
    "hidden_1_nodes = 6\n",
    "output_nodes = 1\n",
    "\n",
    "lr = 1e-1  # learning rate\n",
    "count = 10001  # iteration count\n",
    "\n",
    "# NAND Gate 객체 생성 및 training\n",
    "nand_obj = LogicGate(\"NAND\", nand_xdata, nand_tdata, input_nodes, hidden_1_nodes, output_nodes, lr, count)\n",
    "\n",
    "nand_obj.train()"
   ]
  },
  {
   "cell_type": "code",
   "execution_count": 10,
   "metadata": {},
   "outputs": [
    {
     "name": "stdout",
     "output_type": "stream",
     "text": [
      "NAND \n",
      "\n",
      "NAND  Accuracy =>  1.0\n"
     ]
    }
   ],
   "source": [
    "# NAND Gate prediction\n",
    "print(nand_obj.name, \"\\n\")\n",
    "\n",
    "test_data = np.array([ [0, 0, 1], [0, 1, 1], [1, 0, 1], [1, 1, 0] ])\n",
    "\n",
    "accuracy_ret = nand_obj.accuracy(test_data)\n",
    "\n",
    "print(nand_obj.name, ' Accuracy => ', accuracy_ret)"
   ]
  },
  {
   "cell_type": "code",
   "execution_count": 11,
   "metadata": {},
   "outputs": [
    {
     "name": "stdout",
     "output_type": "stream",
     "text": [
      "XOR object is created\n",
      "Initial loss value =  4.6476530237819595\n",
      "step =  0 loss value =  3.743419902075723\n",
      "step =  500 loss value =  2.5202215644198556\n",
      "step =  1000 loss value =  1.0892732837440944\n",
      "step =  1500 loss value =  0.2298413041591701\n",
      "step =  2000 loss value =  0.10375128382046522\n",
      "step =  2500 loss value =  0.06365954694037695\n",
      "step =  3000 loss value =  0.04499251199327672\n",
      "step =  3500 loss value =  0.03443065949433042\n",
      "step =  4000 loss value =  0.027713266739881705\n",
      "step =  4500 loss value =  0.023095850770986567\n",
      "step =  5000 loss value =  0.0197416886957727\n",
      "step =  5500 loss value =  0.01720261975189127\n",
      "step =  6000 loss value =  0.01521822325904175\n",
      "step =  6500 loss value =  0.013627384402912718\n",
      "step =  7000 loss value =  0.012325344977275138\n",
      "step =  7500 loss value =  0.011241181257944719\n",
      "step =  8000 loss value =  0.010325240520265535\n",
      "step =  8500 loss value =  0.009541766669373451\n",
      "step =  9000 loss value =  0.008864382902407236\n",
      "step =  9500 loss value =  0.008273222126596327\n",
      "step =  10000 loss value =  0.007753046136711456\n",
      "\n",
      "Elapsed Time =>  0:00:44.900704\n"
     ]
    }
   ],
   "source": [
    "xor_xdata = np.array([ [0, 0], [0, 1], [1, 0], [1, 1] ])\n",
    "xor_tdata = np.array([0, 1, 1, 0])\n",
    "\n",
    "input_nodes = 2\n",
    "hidden_1_nodes = 6\n",
    "output_nodes = 1\n",
    "\n",
    "lr = 1e-1  # learning rate\n",
    "count = 10001  # iteration count\n",
    "\n",
    "# XOR Gate 객체 생성 및 training\n",
    "xor_obj = LogicGate(\"XOR\", xor_xdata, xor_tdata, input_nodes, hidden_1_nodes, output_nodes, lr, count)\n",
    "\n",
    "xor_obj.train()"
   ]
  },
  {
   "cell_type": "code",
   "execution_count": 12,
   "metadata": {},
   "outputs": [
    {
     "name": "stdout",
     "output_type": "stream",
     "text": [
      "XOR \n",
      "\n",
      "XOR  Accuracy =>  1.0\n"
     ]
    }
   ],
   "source": [
    "# XOR Gate prediction\n",
    "print(xor_obj.name, \"\\n\")\n",
    "\n",
    "test_data = np.array([ [0, 0, 0], [0, 1, 1], [1, 0, 1], [1, 1, 0] ])\n",
    "\n",
    "accuracy_ret = xor_obj.accuracy(test_data)\n",
    "\n",
    "print(xor_obj.name, ' Accuracy => ', accuracy_ret)"
   ]
  },
  {
   "cell_type": "code",
   "execution_count": null,
   "metadata": {
    "collapsed": true
   },
   "outputs": [],
   "source": []
  }
 ],
 "metadata": {
  "anaconda-cloud": {},
  "kernelspec": {
   "display_name": "Python 3",
   "language": "python",
   "name": "python3"
  },
  "language_info": {
   "codemirror_mode": {
    "name": "ipython",
    "version": 3
   },
   "file_extension": ".py",
   "mimetype": "text/x-python",
   "name": "python",
   "nbconvert_exporter": "python",
   "pygments_lexer": "ipython3",
   "version": "3.7.3"
  }
 },
 "nbformat": 4,
 "nbformat_minor": 1
}

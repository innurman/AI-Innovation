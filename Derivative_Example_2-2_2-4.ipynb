{
  "nbformat": 4,
  "nbformat_minor": 0,
  "metadata": {
    "anaconda-cloud": {},
    "kernelspec": {
      "display_name": "Python 3",
      "language": "python",
      "name": "python3"
    },
    "language_info": {
      "codemirror_mode": {
        "name": "ipython",
        "version": 3
      },
      "file_extension": ".py",
      "mimetype": "text/x-python",
      "name": "python",
      "nbconvert_exporter": "python",
      "pygments_lexer": "ipython3",
      "version": "3.7.3"
    },
    "colab": {
      "name": "Derivative_Example_2.ipynb",
      "provenance": []
    }
  },
  "cells": [
    {
      "cell_type": "markdown",
      "metadata": {
        "id": "--DHdLkERYoj",
        "colab_type": "text"
      },
      "source": [
        "### [예제 2.2]"
      ]
    },
    {
      "cell_type": "code",
      "metadata": {
        "id": "_fjIlDCDRYok",
        "colab_type": "code",
        "colab": {},
        "outputId": "9d9df678-4f96-4d29-f9b7-e2652ee83d95"
      },
      "source": [
        "# 입력변수 2 개인 함수 f(x, y) = 2x + 3xy + y^3\n",
        "def func2(W):    \n",
        "    \n",
        "    x = W[0]\n",
        "    y = W[1] \n",
        "    \n",
        "    return  ( 2*x + 3*x*y + np.power(y,3) )   \n",
        "\n",
        "# lambda function 정의\n",
        "f = lambda W : func2(W)\n",
        "\n",
        "# (x,y) = (1.0, 2.0) 에서의 편미분 값\n",
        "W = np.array([1.0, 2.0]) \n",
        "\n",
        "numerical_derivative( f, W ) "
      ],
      "execution_count": 0,
      "outputs": [
        {
          "output_type": "stream",
          "text": [
            "debug 1. initial input variable = [1. 2.]\n",
            "debug 2. initial grad = [0. 0.]\n",
            "=======================================\n",
            "debug 3. idx =  (0,) , x[idx] =  1.0\n",
            "debug 4. grad[idx] =  8.00000000005241\n",
            "debug 5. grad =  [8. 0.]\n",
            "=======================================\n",
            "debug 3. idx =  (1,) , x[idx] =  2.0\n",
            "debug 4. grad[idx] =  15.000000000142675\n",
            "debug 5. grad =  [ 8. 15.]\n",
            "=======================================\n"
          ],
          "name": "stdout"
        },
        {
          "output_type": "execute_result",
          "data": {
            "text/plain": [
              "array([ 8., 15.])"
            ]
          },
          "metadata": {
            "tags": []
          },
          "execution_count": 10
        }
      ]
    },
    {
      "cell_type": "markdown",
      "metadata": {
        "id": "2UGVhJMSRYom",
        "colab_type": "text"
      },
      "source": [
        "### [예제 2.3]"
      ]
    },
    {
      "cell_type": "code",
      "metadata": {
        "id": "lXm34-20RYon",
        "colab_type": "code",
        "colab": {},
        "outputId": "7fd13796-df5d-463d-ed08-cbd6a8f507f8"
      },
      "source": [
        "# 입력변수 4 개인 함수 \n",
        "# f(w,x,y,z) = wx + xyz + 3w + zy^2\n",
        "# input_data 는 행렬\n",
        "\n",
        "def func(input_data):    \n",
        "    \n",
        "    w = input_data[0, 0]\n",
        "    x = input_data[0, 1] \n",
        "    y = input_data[1, 0]\n",
        "    z = input_data[1, 1] \n",
        "    \n",
        "    return  ( w*x + x*y*z + 3*w + z*np.power(y,2) )   \n",
        "\n",
        "# lambda function 정의\n",
        "f = lambda W : func(W)\n",
        "\n",
        "# 입력을 2X2 행렬로 구성함\n",
        "input_data = np.array([ [1.0, 2.0], [3.0, 4.0] ]) \n",
        "\n",
        "ret = numerical_derivative( f, input_data ) \n",
        "\n",
        "print(ret)"
      ],
      "execution_count": 0,
      "outputs": [
        {
          "output_type": "stream",
          "text": [
            "debug 1. initial input variable = [[1. 2.]\n",
            " [3. 4.]]\n",
            "debug 2. initial grad = [[0. 0.]\n",
            " [0. 0.]]\n",
            "=======================================\n",
            "debug 3. idx =  (0, 0) , x[idx] =  1.0\n",
            "debug 4. grad[idx] =  5.000000000165983\n",
            "debug 5. grad =  [[5. 0.]\n",
            " [0. 0.]]\n",
            "=======================================\n",
            "debug 3. idx =  (0, 1) , x[idx] =  2.0\n",
            "debug 4. grad[idx] =  12.99999999986312\n",
            "debug 5. grad =  [[ 5. 13.]\n",
            " [ 0.  0.]]\n",
            "=======================================\n",
            "debug 3. idx =  (1, 0) , x[idx] =  3.0\n",
            "debug 4. grad[idx] =  32.00000000020964\n",
            "debug 5. grad =  [[ 5. 13.]\n",
            " [32.  0.]]\n",
            "=======================================\n",
            "debug 3. idx =  (1, 1) , x[idx] =  4.0\n",
            "debug 4. grad[idx] =  14.999999999787404\n",
            "debug 5. grad =  [[ 5. 13.]\n",
            " [32. 15.]]\n",
            "=======================================\n",
            "[[ 5. 13.]\n",
            " [32. 15.]]\n"
          ],
          "name": "stdout"
        }
      ]
    },
    {
      "cell_type": "markdown",
      "metadata": {
        "id": "U1ZeQgHPRYoq",
        "colab_type": "text"
      },
      "source": [
        "### [예제 2.4]  미분변수 값이 정수와 실수인 경우\n",
        "#### numerical_derivative(...) 디버그 문장 세분화"
      ]
    },
    {
      "cell_type": "code",
      "metadata": {
        "id": "Jvoz53vhRYor",
        "colab_type": "code",
        "colab": {}
      },
      "source": [
        "import numpy as np\n",
        "\n",
        "def numerical_derivative(f, x):    # 수치미분 debug version\n",
        "    delta_x = 1e-4 \n",
        "    grad = np.zeros_like(x)\n",
        "    \n",
        "    print('debug 0. type(grad) = ', type(grad))\n",
        "    print(\"debug 1. initial input variable =\", x)   \n",
        "    print(\"debug 2. initial grad =\", grad) \n",
        "    print(\"=======================================\")\n",
        "    \n",
        "    it = np.nditer(x, flags=['multi_index'], op_flags=['readwrite'])\n",
        "    \n",
        "    while not it.finished:\n",
        "        idx = it.multi_index\n",
        "        \n",
        "        print(\"debug 3. idx = \", idx, \", x[idx] = \", x[idx])   \n",
        "        \n",
        "        tmp_val = x[idx]\n",
        "        \n",
        "        # x[idx] 변수가 정수타입이면 계산값이 타입캐스팅되어,\n",
        "        # 즉 소수점 아래부분은 버려져서 x[idx] 에 대입됨\n",
        "        x[idx] = float(tmp_val) + delta_x   \n",
        "        \n",
        "        print(\"debug 4. x[idx] = \", x[idx])\n",
        "        \n",
        "        fx1 = f(x)   # f(x+delta_x)\n",
        "        \n",
        "        print(\"debug 5. fx1 = \", fx1)\n",
        "        \n",
        "        # x[idx] 변수가 정수타입이면 계산값이 타입캐스팅되어,\n",
        "        # 즉 소수점 아래부분은 버려져서 x[idx] 에 대입됨\n",
        "        x[idx] = float(tmp_val) - delta_x \n",
        "        \n",
        "        print(\"debug 6. x[idx] = \", x[idx])\n",
        "        \n",
        "        fx2 = f(x)   # f(x-delta_x)\n",
        "        \n",
        "        print(\"debug 7. fx2 = \", fx2)\n",
        "        \n",
        "        grad[idx] = (fx1 - fx2) / (2*delta_x)\n",
        "        \n",
        "        print('debug 8. grad[idx] = ', grad[idx])\n",
        "        print(\"debug 9. grad = \", grad) \n",
        "        print(\"=======================================\")\n",
        "        \n",
        "        x[idx] = tmp_val\n",
        "        it.iternext()   \n",
        "        \n",
        "    return grad"
      ],
      "execution_count": 0,
      "outputs": []
    },
    {
      "cell_type": "markdown",
      "metadata": {
        "id": "0pQOn6nXRYov",
        "colab_type": "text"
      },
      "source": [
        "#### 입력데이터가 실수가 아닌 경우 "
      ]
    },
    {
      "cell_type": "code",
      "metadata": {
        "id": "PTgNcKo7RYow",
        "colab_type": "code",
        "colab": {},
        "outputId": "fcb7bdee-e0b3-4963-e5d1-beb77e0265a9"
      },
      "source": [
        "# 입력변수 1 개인 함수 f(x) = x**2\n",
        "def func1(W):    \n",
        "    \n",
        "    x = W[0]\n",
        "    \n",
        "    return  x**2  \n",
        "\n",
        "f = lambda W : func1(W)\n",
        "\n",
        "# 실수가 아닌 정수값 3을 입력하는 경우 예제\n",
        "W = np.array([3])\n",
        "\n",
        "# x = 3 에서의 편미분 값\n",
        "numerical_derivative( f, W ) "
      ],
      "execution_count": 0,
      "outputs": [
        {
          "output_type": "stream",
          "text": [
            "debug 0. type(grad) =  <class 'numpy.ndarray'>\n",
            "debug 1. initial input variable = [3]\n",
            "debug 2. initial grad = [0]\n",
            "=======================================\n",
            "debug 3. idx =  (0,) , x[idx] =  3\n",
            "debug 4. x[idx] =  3\n",
            "debug 5. fx1 =  9\n",
            "debug 6. x[idx] =  2\n",
            "debug 7. fx2 =  4\n",
            "debug 8. grad[idx] =  25000\n",
            "debug 9. grad =  [25000]\n",
            "=======================================\n"
          ],
          "name": "stdout"
        },
        {
          "output_type": "execute_result",
          "data": {
            "text/plain": [
              "array([25000])"
            ]
          },
          "metadata": {
            "tags": []
          },
          "execution_count": 6
        }
      ]
    },
    {
      "cell_type": "markdown",
      "metadata": {
        "id": "gfKNKsvyRYo0",
        "colab_type": "text"
      },
      "source": [
        "#### 입력데이터가 실수인 경우"
      ]
    },
    {
      "cell_type": "code",
      "metadata": {
        "id": "16Xz_K77RYo1",
        "colab_type": "code",
        "colab": {},
        "outputId": "fc08484b-fa23-4ad5-948f-2f4f10f759c7"
      },
      "source": [
        "# 입력변수 1 개인 함수 f(x) = x**2\n",
        "def func1(W):    \n",
        "    \n",
        "    x = W[0]\n",
        "    \n",
        "    return  x**2  \n",
        "\n",
        "f = lambda W : func1(W)\n",
        "\n",
        "# 실수값 3.0을 입력하는 경우 예제\n",
        "W = np.array([3.0])\n",
        "\n",
        "# x = 3.0 에서의 편미분 값\n",
        "numerical_derivative( f, W ) "
      ],
      "execution_count": 0,
      "outputs": [
        {
          "output_type": "stream",
          "text": [
            "debug 0. type(grad) =  <class 'numpy.ndarray'>\n",
            "debug 1. initial input variable = [3.]\n",
            "debug 2. initial grad = [0.]\n",
            "=======================================\n",
            "debug 3. idx =  (0,) , x[idx] =  3.0\n",
            "debug 4. x[idx] =  3.0001\n",
            "debug 5. fx1 =  9.000600010000001\n",
            "debug 6. x[idx] =  2.9999\n",
            "debug 7. fx2 =  8.999400009999999\n",
            "debug 8. grad[idx] =  6.000000000012662\n",
            "debug 9. grad =  [6.]\n",
            "=======================================\n"
          ],
          "name": "stdout"
        },
        {
          "output_type": "execute_result",
          "data": {
            "text/plain": [
              "array([6.])"
            ]
          },
          "metadata": {
            "tags": []
          },
          "execution_count": 7
        }
      ]
    },
    {
      "cell_type": "code",
      "metadata": {
        "id": "NsvUPFlSRYo3",
        "colab_type": "code",
        "colab": {}
      },
      "source": [
        ""
      ],
      "execution_count": 0,
      "outputs": []
    }
  ]
}
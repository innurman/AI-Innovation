{
 "cells": [
  {
   "cell_type": "markdown",
   "metadata": {},
   "source": [
    "### [예제 1] Kaggle Titanic Data 읽기 예제\n",
    "#### pandas.read_csv() 읽어올경우 데이터 타입 확인\n",
    "#### pandas,read_csv().values 읽어올 경우 데이터타입 확인"
   ]
  },
  {
   "cell_type": "code",
   "execution_count": 1,
   "metadata": {},
   "outputs": [],
   "source": [
    "import numpy as np\n",
    "import pandas as pd"
   ]
  },
  {
   "cell_type": "markdown",
   "metadata": {},
   "source": [
    "### pd.read_csv() 만 실행하면 DataFrame으로 리턴됨"
   ]
  },
  {
   "cell_type": "code",
   "execution_count": 2,
   "metadata": {},
   "outputs": [
    {
     "name": "stdout",
     "output_type": "stream",
     "text": [
      "train_csv_data.shape =  (891, 12) , type(train_csv_data) =  <class 'pandas.core.frame.DataFrame'>\n",
      "test_csv_data.shape =  (418, 11) , type(test_csv_data) =  <class 'pandas.core.frame.DataFrame'>\n",
      "test_csv_sub.shape =  (418, 2) , type(test_csv_sub) =  <class 'pandas.core.frame.DataFrame'>\n"
     ]
    },
    {
     "data": {
      "text/html": [
       "<div>\n",
       "<style scoped>\n",
       "    .dataframe tbody tr th:only-of-type {\n",
       "        vertical-align: middle;\n",
       "    }\n",
       "\n",
       "    .dataframe tbody tr th {\n",
       "        vertical-align: top;\n",
       "    }\n",
       "\n",
       "    .dataframe thead th {\n",
       "        text-align: right;\n",
       "    }\n",
       "</style>\n",
       "<table border=\"1\" class=\"dataframe\">\n",
       "  <thead>\n",
       "    <tr style=\"text-align: right;\">\n",
       "      <th></th>\n",
       "      <th>PassengerId</th>\n",
       "      <th>Survived</th>\n",
       "      <th>Pclass</th>\n",
       "      <th>Name</th>\n",
       "      <th>Sex</th>\n",
       "      <th>Age</th>\n",
       "      <th>SibSp</th>\n",
       "      <th>Parch</th>\n",
       "      <th>Ticket</th>\n",
       "      <th>Fare</th>\n",
       "      <th>Cabin</th>\n",
       "      <th>Embarked</th>\n",
       "    </tr>\n",
       "  </thead>\n",
       "  <tbody>\n",
       "    <tr>\n",
       "      <th>0</th>\n",
       "      <td>1</td>\n",
       "      <td>0</td>\n",
       "      <td>3</td>\n",
       "      <td>Braund, Mr. Owen Harris</td>\n",
       "      <td>male</td>\n",
       "      <td>22.0</td>\n",
       "      <td>1</td>\n",
       "      <td>0</td>\n",
       "      <td>A/5 21171</td>\n",
       "      <td>7.2500</td>\n",
       "      <td>NaN</td>\n",
       "      <td>S</td>\n",
       "    </tr>\n",
       "    <tr>\n",
       "      <th>1</th>\n",
       "      <td>2</td>\n",
       "      <td>1</td>\n",
       "      <td>1</td>\n",
       "      <td>Cumings, Mrs. John Bradley (Florence Briggs Th...</td>\n",
       "      <td>female</td>\n",
       "      <td>38.0</td>\n",
       "      <td>1</td>\n",
       "      <td>0</td>\n",
       "      <td>PC 17599</td>\n",
       "      <td>71.2833</td>\n",
       "      <td>C85</td>\n",
       "      <td>C</td>\n",
       "    </tr>\n",
       "    <tr>\n",
       "      <th>2</th>\n",
       "      <td>3</td>\n",
       "      <td>1</td>\n",
       "      <td>3</td>\n",
       "      <td>Heikkinen, Miss. Laina</td>\n",
       "      <td>female</td>\n",
       "      <td>26.0</td>\n",
       "      <td>0</td>\n",
       "      <td>0</td>\n",
       "      <td>STON/O2. 3101282</td>\n",
       "      <td>7.9250</td>\n",
       "      <td>NaN</td>\n",
       "      <td>S</td>\n",
       "    </tr>\n",
       "    <tr>\n",
       "      <th>3</th>\n",
       "      <td>4</td>\n",
       "      <td>1</td>\n",
       "      <td>1</td>\n",
       "      <td>Futrelle, Mrs. Jacques Heath (Lily May Peel)</td>\n",
       "      <td>female</td>\n",
       "      <td>35.0</td>\n",
       "      <td>1</td>\n",
       "      <td>0</td>\n",
       "      <td>113803</td>\n",
       "      <td>53.1000</td>\n",
       "      <td>C123</td>\n",
       "      <td>S</td>\n",
       "    </tr>\n",
       "    <tr>\n",
       "      <th>4</th>\n",
       "      <td>5</td>\n",
       "      <td>0</td>\n",
       "      <td>3</td>\n",
       "      <td>Allen, Mr. William Henry</td>\n",
       "      <td>male</td>\n",
       "      <td>35.0</td>\n",
       "      <td>0</td>\n",
       "      <td>0</td>\n",
       "      <td>373450</td>\n",
       "      <td>8.0500</td>\n",
       "      <td>NaN</td>\n",
       "      <td>S</td>\n",
       "    </tr>\n",
       "  </tbody>\n",
       "</table>\n",
       "</div>"
      ],
      "text/plain": [
       "   PassengerId  Survived  Pclass  \\\n",
       "0            1         0       3   \n",
       "1            2         1       1   \n",
       "2            3         1       3   \n",
       "3            4         1       1   \n",
       "4            5         0       3   \n",
       "\n",
       "                                                Name     Sex   Age  SibSp  \\\n",
       "0                            Braund, Mr. Owen Harris    male  22.0      1   \n",
       "1  Cumings, Mrs. John Bradley (Florence Briggs Th...  female  38.0      1   \n",
       "2                             Heikkinen, Miss. Laina  female  26.0      0   \n",
       "3       Futrelle, Mrs. Jacques Heath (Lily May Peel)  female  35.0      1   \n",
       "4                           Allen, Mr. William Henry    male  35.0      0   \n",
       "\n",
       "   Parch            Ticket     Fare Cabin Embarked  \n",
       "0      0         A/5 21171   7.2500   NaN        S  \n",
       "1      0          PC 17599  71.2833   C85        C  \n",
       "2      0  STON/O2. 3101282   7.9250   NaN        S  \n",
       "3      0            113803  53.1000  C123        S  \n",
       "4      0            373450   8.0500   NaN        S  "
      ]
     },
     "execution_count": 2,
     "metadata": {},
     "output_type": "execute_result"
    }
   ],
   "source": [
    "# np.loadtxt() 사용하면 각 컬럼값들이 숫자만이 아닌 문자등이 포함되어 있기 때문에 error 발생\n",
    "# 따라서 pandas 의 read_csv() 이용함\n",
    "train_csv_data = pd.read_csv('./titanic_train.csv')\n",
    "test_csv_data = pd.read_csv('./titanic_test.csv')\n",
    "test_csv_sub = pd.read_csv('./titanic_gender_submission.csv')\n",
    "\n",
    "print('train_csv_data.shape = ', train_csv_data.shape, ', type(train_csv_data) = ', type(train_csv_data))\n",
    "print('test_csv_data.shape = ', test_csv_data.shape, ', type(test_csv_data) = ', type(test_csv_data))\n",
    "print('test_csv_sub.shape = ', test_csv_sub.shape, ', type(test_csv_sub) = ', type(test_csv_sub))\n",
    "\n",
    "#print(train_csv_data)\n",
    "#print('\\n',train_csv_data.loc[0])\n",
    "\n",
    "train_csv_data.head(5)"
   ]
  },
  {
   "cell_type": "markdown",
   "metadata": {},
   "source": [
    "### pd.read_csv().values 실행하면  matrix 리턴됨"
   ]
  },
  {
   "cell_type": "code",
   "execution_count": 3,
   "metadata": {},
   "outputs": [
    {
     "name": "stdout",
     "output_type": "stream",
     "text": [
      "train_csv_data.shape =  (891, 12) , type(train_csv_data) =  <class 'numpy.ndarray'>\n",
      "test_csv_data.shape =  (418, 11) , type(test_csv_data) =  <class 'numpy.ndarray'>\n",
      "test_csv_sub.shape =  (418, 2) , type(test_csv_sub) =  <class 'numpy.ndarray'>\n",
      "\n",
      " [1 0 3 'Braund, Mr. Owen Harris' 'male' 22.0 1 0 'A/5 21171' 7.25 nan 'S'] \n",
      "\n",
      "value =  1 , type(column) =  <class 'int'>\n",
      "value =  0 , type(column) =  <class 'int'>\n",
      "value =  3 , type(column) =  <class 'int'>\n",
      "value =  Braund, Mr. Owen Harris , type(column) =  <class 'str'>\n",
      "value =  male , type(column) =  <class 'str'>\n",
      "value =  22.0 , type(column) =  <class 'float'>\n",
      "value =  1 , type(column) =  <class 'int'>\n",
      "value =  0 , type(column) =  <class 'int'>\n",
      "value =  A/5 21171 , type(column) =  <class 'str'>\n",
      "value =  7.25 , type(column) =  <class 'float'>\n",
      "value =  nan , type(column) =  <class 'float'>\n",
      "value =  S , type(column) =  <class 'str'>\n"
     ]
    }
   ],
   "source": [
    "# Load Kaggle Data as matrix\n",
    "train_csv_data = pd.read_csv('./titanic_train.csv').values\n",
    "test_csv_data = pd.read_csv('./titanic_test.csv').values\n",
    "test_csv_sub = pd.read_csv('./titanic_gender_submission.csv').values\n",
    "\n",
    "print('train_csv_data.shape = ', train_csv_data.shape, ', type(train_csv_data) = ', type(train_csv_data))\n",
    "print('test_csv_data.shape = ', test_csv_data.shape, ', type(test_csv_data) = ', type(test_csv_data))\n",
    "print('test_csv_sub.shape = ', test_csv_sub.shape, ', type(test_csv_sub) = ', type(test_csv_sub))\n",
    "\n",
    "print('\\n', train_csv_data[0], '\\n')\n",
    "\n",
    "# 각 column 내용 확인\n",
    "for column_index in range(len(train_csv_data[0])):\n",
    "    \n",
    "    print('value = ', train_csv_data[0, column_index], ', type(column) = ', type(train_csv_data[0, column_index]))"
   ]
  },
  {
   "cell_type": "code",
   "execution_count": null,
   "metadata": {},
   "outputs": [],
   "source": []
  }
 ],
 "metadata": {
  "anaconda-cloud": {},
  "kernelspec": {
   "display_name": "Python 3",
   "language": "python",
   "name": "python3"
  },
  "language_info": {
   "codemirror_mode": {
    "name": "ipython",
    "version": 3
   },
   "file_extension": ".py",
   "mimetype": "text/x-python",
   "name": "python",
   "nbconvert_exporter": "python",
   "pygments_lexer": "ipython3",
   "version": "3.7.6"
  }
 },
 "nbformat": 4,
 "nbformat_minor": 1
}

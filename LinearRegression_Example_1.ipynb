{
 "cells": [
  {
   "cell_type": "code",
   "execution_count": 2,
   "metadata": {},
   "outputs": [],
   "source": [
    "import numpy as np\n",
    "\n",
    "def numerical_derivative(f, x):\n",
    "    delta_x = 1e-4 # 0.0001\n",
    "    grad = np.zeros_like(x)\n",
    "    \n",
    "    it = np.nditer(x, flags=['multi_index'], op_flags=['readwrite'])\n",
    "    \n",
    "    while not it.finished:\n",
    "        idx = it.multi_index        \n",
    "        tmp_val = x[idx]\n",
    "        x[idx] = float(tmp_val) + delta_x\n",
    "        fx1 = f(x) # f(x+delta_x)\n",
    "        \n",
    "        x[idx] = float(tmp_val) - delta_x \n",
    "        fx2 = f(x) # f(x-delta_x)\n",
    "        grad[idx] = (fx1 - fx2) / (2*delta_x)\n",
    "        \n",
    "        x[idx] = tmp_val \n",
    "        it.iternext()   \n",
    "        \n",
    "    return grad"
   ]
  },
  {
   "cell_type": "code",
   "execution_count": 3,
   "metadata": {},
   "outputs": [
    {
     "name": "stdout",
     "output_type": "stream",
     "text": [
      "x_data.shape =  (5, 1) , t_data.shape =  (5, 1)\n"
     ]
    }
   ],
   "source": [
    "x_data = np.array([1.0, 2.0, 3.0, 4.0, 5.0]).reshape(5,1)\n",
    "t_data = np.array([2.0, 3.0, 4.0, 5.0, 6.0]).reshape(5,1) \n",
    "\n",
    "print(\"x_data.shape = \", x_data.shape, \", t_data.shape = \", t_data.shape)"
   ]
  },
  {
   "cell_type": "code",
   "execution_count": 4,
   "metadata": {},
   "outputs": [
    {
     "name": "stdout",
     "output_type": "stream",
     "text": [
      "W =  [[0.66249727]] , W.shape =  (1, 1) , b =  [0.35002393] , b.shape =  (1,)\n"
     ]
    }
   ],
   "source": [
    "W = np.random.rand(1,1)  \n",
    "b = np.random.rand(1)  \n",
    "\n",
    "print(\"W = \", W, \", W.shape = \", W.shape, \", b = \", b, \", b.shape = \", b.shape)"
   ]
  },
  {
   "cell_type": "code",
   "execution_count": 5,
   "metadata": {},
   "outputs": [],
   "source": [
    "def loss_func(x, t):\n",
    "    y = np.dot(x,W) + b\n",
    "    \n",
    "    return ( np.sum( (t - y)**2 ) ) / ( len(x) )"
   ]
  },
  {
   "cell_type": "code",
   "execution_count": 6,
   "metadata": {},
   "outputs": [],
   "source": [
    "# 손실함수 값 계산 함수\n",
    "# 입력변수 x, t : numpy type\n",
    "def loss_val(x, t):\n",
    "    y = np.dot(x,W) + b\n",
    "    \n",
    "    return ( np.sum( (t - y)**2 ) ) / ( len(x) )\n",
    "\n",
    "\n",
    "# 학습을 마친 후, 임의의 데이터에 대해 미래 값 예측 함수\n",
    "# 입력변수 x : numpy type\n",
    "\n",
    "def predict(x):\n",
    "    y = np.dot(x,W) + b\n",
    "    \n",
    "    return y"
   ]
  },
  {
   "cell_type": "code",
   "execution_count": 7,
   "metadata": {},
   "outputs": [
    {
     "name": "stdout",
     "output_type": "stream",
     "text": [
      "Initial loss value =  2.991670036466799 Initial W =  [[0.66249727]] \n",
      " , b =  [0.35002393]\n",
      "step =  0 loss value =  1.7809263874237558 W =  [[0.77574644]] , b =  [0.37647867]\n",
      "step =  400 loss value =  0.003419083539162319 W =  [[1.03797096]] , b =  [0.86294634]\n",
      "step =  800 loss value =  0.00021815774332760562 W =  [[1.0095914]] , b =  [0.96538047]\n",
      "step =  1200 loss value =  1.391975376695323e-05 W =  [[1.00242277]] , b =  [0.99125517]\n",
      "step =  1600 loss value =  8.881625835369452e-07 W =  [[1.00061199]] , b =  [0.99779107]\n",
      "step =  2000 loss value =  5.667002362274895e-08 W =  [[1.00015459]] , b =  [0.99944203]\n",
      "step =  2400 loss value =  3.6158825388096766e-09 W =  [[1.00003905]] , b =  [0.99985906]\n",
      "step =  2800 loss value =  2.3071468297448814e-10 W =  [[1.00000986]] , b =  [0.9999644]\n",
      "step =  3200 loss value =  1.4720960751304053e-11 W =  [[1.00000249]] , b =  [0.99999101]\n",
      "step =  3600 loss value =  9.392843258917527e-13 W =  [[1.00000063]] , b =  [0.99999773]\n",
      "step =  4000 loss value =  5.993189293678713e-14 W =  [[1.00000016]] , b =  [0.99999943]\n",
      "step =  4400 loss value =  3.824009072468626e-15 W =  [[1.00000004]] , b =  [0.99999986]\n",
      "step =  4800 loss value =  2.439943865562608e-16 W =  [[1.00000001]] , b =  [0.99999996]\n",
      "step =  5200 loss value =  1.5568286710485452e-17 W =  [[1.]] , b =  [0.99999999]\n",
      "step =  5600 loss value =  9.933490524417777e-19 W =  [[1.]] , b =  [1.]\n",
      "step =  6000 loss value =  6.338152473432701e-20 W =  [[1.]] , b =  [1.]\n",
      "step =  6400 loss value =  4.044113741063203e-21 W =  [[1.]] , b =  [1.]\n",
      "step =  6800 loss value =  2.580309593519774e-22 W =  [[1.]] , b =  [1.]\n",
      "step =  7200 loss value =  1.6465244560482317e-23 W =  [[1.]] , b =  [1.]\n",
      "step =  7600 loss value =  1.0520720376418283e-24 W =  [[1.]] , b =  [1.]\n",
      "step =  8000 loss value =  6.751079515490472e-26 W =  [[1.]] , b =  [1.]\n"
     ]
    }
   ],
   "source": [
    "learning_rate = 1e-2\n",
    "\n",
    "f = lambda x : loss_func(x_data,t_data)\n",
    "\n",
    "print(\"Initial loss value = \", loss_val(x_data, t_data), \"Initial W = \", W, \"\\n\", \", b = \", b )\n",
    "\n",
    "for step in  range(8001):  \n",
    "    \n",
    "    W -= learning_rate * numerical_derivative(f, W)\n",
    "    \n",
    "    b -= learning_rate * numerical_derivative(f, b)\n",
    "    \n",
    "    if (step % 400 == 0):\n",
    "        print(\"step = \", step, \"loss value = \", loss_val(x_data, t_data), \"W = \", W, \", b = \",b )"
   ]
  },
  {
   "cell_type": "code",
   "execution_count": 8,
   "metadata": {},
   "outputs": [
    {
     "data": {
      "text/plain": [
       "array([44.])"
      ]
     },
     "execution_count": 8,
     "metadata": {},
     "output_type": "execute_result"
    }
   ],
   "source": [
    "predict(np.array([43]))  "
   ]
  },
  {
   "cell_type": "code",
   "execution_count": null,
   "metadata": {},
   "outputs": [],
   "source": []
  }
 ],
 "metadata": {
  "anaconda-cloud": {},
  "kernelspec": {
   "display_name": "Python 3",
   "language": "python",
   "name": "python3"
  },
  "language_info": {
   "codemirror_mode": {
    "name": "ipython",
    "version": 3
   },
   "file_extension": ".py",
   "mimetype": "text/x-python",
   "name": "python",
   "nbconvert_exporter": "python",
   "pygments_lexer": "ipython3",
   "version": "3.7.3"
  }
 },
 "nbformat": 4,
 "nbformat_minor": 1
}

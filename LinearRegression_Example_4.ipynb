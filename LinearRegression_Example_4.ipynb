{
 "cells": [
  {
   "cell_type": "markdown",
   "metadata": {},
   "source": [
    "### 4개의 입력데이터 연산 (A1-A2+A3-A4) 예측하는 Linear Regression 예제\n",
    "#### epochs 을 기존의 2배로 늘리고 손실함수 추이를 나타내는 그래프 그리기"
   ]
  },
  {
   "cell_type": "code",
   "execution_count": 1,
   "metadata": {},
   "outputs": [],
   "source": [
    "import numpy as np\n",
    "from datetime import datetime\n",
    "import matplotlib.pyplot as plt\n",
    "\n",
    "\n",
    "# 수치미분 코드\n",
    "def numerical_derivative(f, x):\n",
    "    delta_x = 1e-4 # 0.0001\n",
    "    grad = np.zeros_like(x)\n",
    "    \n",
    "    it = np.nditer(x, flags=['multi_index'], op_flags=['readwrite'])\n",
    "    \n",
    "    while not it.finished:\n",
    "        idx = it.multi_index        \n",
    "        tmp_val = x[idx]\n",
    "        x[idx] = float(tmp_val) + delta_x\n",
    "        fx1 = f(x) # f(x+delta_x)\n",
    "        \n",
    "        x[idx] = float(tmp_val) - delta_x \n",
    "        fx2 = f(x) # f(x-delta_x)\n",
    "        grad[idx] = (fx1 - fx2) / (2*delta_x)\n",
    "        \n",
    "        x[idx] = tmp_val \n",
    "        it.iternext()   \n",
    "        \n",
    "    return grad"
   ]
  },
  {
   "cell_type": "code",
   "execution_count": 2,
   "metadata": {},
   "outputs": [
    {
     "name": "stdout",
     "output_type": "stream",
     "text": [
      "loaded_data.ndim =  2 , loaded_data.shape =  (50, 5)\n",
      "x_data.ndim =  2 , x_data.shape =  (50, 4)\n",
      "t_data.ndim =  2 , t_data.shape =  (50, 1)\n"
     ]
    }
   ],
   "source": [
    "try:\n",
    "    loaded_data = np.loadtxt('./sps.csv', delimiter=',', dtype=np.float32)\n",
    "    \n",
    "    x_data = loaded_data[ :, 1:]\n",
    "    t_data = loaded_data[ :, [0]]\n",
    "\n",
    "    # 데이터 차원 및 shape 확인\n",
    "    print(\"loaded_data.ndim = \", loaded_data.ndim, \", loaded_data.shape = \", loaded_data.shape)\n",
    "    print(\"x_data.ndim = \", x_data.ndim, \", x_data.shape = \", x_data.shape)\n",
    "    print(\"t_data.ndim = \", t_data.ndim, \", t_data.shape = \", t_data.shape) \n",
    "    \n",
    "except FileNotFoundError as err:\n",
    "    print(str(err))\n",
    "except IndexError as err:\n",
    "    print(str(err))\n",
    "except Exception as err:\n",
    "    print(str(err))"
   ]
  },
  {
   "cell_type": "code",
   "execution_count": 3,
   "metadata": {},
   "outputs": [
    {
     "name": "stdout",
     "output_type": "stream",
     "text": [
      "W =  [[0.5488135 ]\n",
      " [0.71518937]\n",
      " [0.60276338]\n",
      " [0.54488318]] , W.shape =  (4, 1) , b =  [0.4236548] , b.shape =  (1,)\n"
     ]
    }
   ],
   "source": [
    "np.random.seed(0)\n",
    "\n",
    "W = np.random.rand(x_data.shape[-1], 1)  # 4X1 행렬\n",
    "b = np.random.rand(1)  \n",
    "print(\"W = \", W, \", W.shape = \", W.shape, \", b = \", b, \", b.shape = \", b.shape)"
   ]
  },
  {
   "cell_type": "code",
   "execution_count": 4,
   "metadata": {},
   "outputs": [],
   "source": [
    "# 손실함수\n",
    "\n",
    "def loss_func(x, t):\n",
    "    y = np.dot(x,W) + b\n",
    "    \n",
    "    return ( np.sum( (t - y)**2 ) ) / ( len(x) )"
   ]
  },
  {
   "cell_type": "code",
   "execution_count": 5,
   "metadata": {},
   "outputs": [],
   "source": [
    "# 손실함수 값 계산 함수\n",
    "# 입력변수 x, t : numpy type\n",
    "def error_val(x, t):\n",
    "    y = np.dot(x,W) + b\n",
    "    \n",
    "    return ( np.sum( (t - y)**2 ) ) / ( len(x) )\n",
    "\n",
    "# 학습을 마친 후, 임의의 데이터에 대해 미래 값 예측 함수\n",
    "# 입력변수 x : numpy type\n",
    "def predict(x):\n",
    "    y = np.dot(x,W) + b\n",
    "    \n",
    "    return y"
   ]
  },
  {
   "cell_type": "code",
   "execution_count": 6,
   "metadata": {},
   "outputs": [
    {
     "name": "stdout",
     "output_type": "stream",
     "text": [
      "Initial error value =  64.38302549674624 Initial W =  [[0.5488135 ]\n",
      " [0.71518937]\n",
      " [0.60276338]\n",
      " [0.54488318]] \n",
      " , b =  [0.4236548]\n",
      "step =  0 error value =  60.604776072341444\n",
      "step =  1000 error value =  0.004047845907167936\n",
      "step =  2000 error value =  0.00048722369128301977\n",
      "step =  3000 error value =  5.864524808192556e-05\n",
      "step =  4000 error value =  7.0589037112171215e-06\n",
      "step =  5000 error value =  8.496531813563435e-07\n",
      "step =  6000 error value =  1.0226949652836696e-07\n",
      "step =  7000 error value =  1.230978727513882e-08\n",
      "step =  8000 error value =  1.4816819081469759e-09\n",
      "step =  9000 error value =  1.7834437166114527e-10\n",
      "step =  10000 error value =  2.1466628382414438e-11\n",
      "step =  11000 error value =  2.583855772566766e-12\n",
      "step =  12000 error value =  3.1100881478795545e-13\n",
      "step =  13000 error value =  3.7434938904037783e-14\n",
      "step =  14000 error value =  4.5059000875171345e-15\n",
      "step =  15000 error value =  5.423579204531311e-16\n",
      "step =  16000 error value =  6.528154409141282e-17\n",
      "step =  17000 error value =  7.857690960008845e-18\n",
      "step =  18000 error value =  9.458002967175832e-19\n",
      "step =  19000 error value =  1.1384228300504383e-19\n",
      "step =  20000 error value =  1.370281435831186e-20\n",
      "step =  21000 error value =  1.6494531600977032e-21\n",
      "step =  22000 error value =  1.9859337893496504e-22\n",
      "step =  23000 error value =  2.3940569803507154e-23\n",
      "step =  24000 error value =  2.8926538754400545e-24\n",
      "step =  25000 error value =  3.5189776953551637e-25\n",
      "step =  26000 error value =  4.4692299850792143e-26\n",
      "step =  27000 error value =  6.981567293526183e-27\n",
      "step =  28000 error value =  1.7847429561181468e-27\n",
      "step =  29000 error value =  9.176150809230155e-28\n",
      "step =  30000 error value =  7.296706880293302e-28\n",
      "step =  31000 error value =  6.635246707056323e-28\n",
      "step =  32000 error value =  6.406311397908938e-28\n",
      "step =  33000 error value =  6.409910863646022e-28\n",
      "step =  34000 error value =  6.410158731929236e-28\n",
      "step =  35000 error value =  6.4101916533982895e-28\n",
      "step =  36000 error value =  6.410191402645274e-28\n",
      "step =  37000 error value =  6.410191592278829e-28\n",
      "step =  38000 error value =  6.410191781640267e-28\n",
      "step =  39000 error value =  6.4101915317051525e-28\n",
      "step =  40000 error value =  6.410191720247789e-28\n",
      "\n",
      "Elapsed Time =>  0:00:18.091141\n"
     ]
    }
   ],
   "source": [
    "learning_rate = 1e-3   \n",
    "\n",
    "f = lambda x : loss_func(x_data,t_data)\n",
    "\n",
    "print(\"Initial error value = \", error_val(x_data, t_data), \"Initial W = \", W, \"\\n\", \", b = \", b )\n",
    "\n",
    "loss_val_list = []\n",
    "\n",
    "start_time = datetime.now()\n",
    "\n",
    "for step in  range(40001):    # 4만번 반복수행\n",
    "    \n",
    "    W -= learning_rate * numerical_derivative(f, W)\n",
    "    \n",
    "    b -= learning_rate * numerical_derivative(f, b)\n",
    "    \n",
    "    if (step % 1000 == 0):\n",
    "        print(\"step = \", step, \"error value = \", error_val(x_data, t_data) )\n",
    "        loss_val_list.append(error_val(x_data, t_data))\n",
    "        \n",
    "end_time = datetime.now()\n",
    "        \n",
    "print(\"\")\n",
    "print(\"Elapsed Time => \", end_time - start_time)"
   ]
  },
  {
   "cell_type": "code",
   "execution_count": 8,
   "metadata": {},
   "outputs": [
    {
     "data": {
      "image/png": "[encoded data removed]",
      "text/plain": [
       "<Figure size 432x288 with 1 Axes>"
      ]
     },
     "metadata": {
      "needs_background": "light"
     },
     "output_type": "display_data"
    }
   ],
   "source": [
    "plt.title('Loss Value Trend')\n",
    "plt.xlabel('epochs ( X 1000)')\n",
    "plt.ylabel('loss value')\n",
    "plt.grid()\n",
    "\n",
    "plt.plot(loss_val_list, ls='--', lw=2, color='r', label='lr=1e-3 , epoch=40,000')\n",
    "plt.legend(loc='best')\n",
    "\n",
    "\n",
    "plt.show()"
   ]
  },
  {
   "cell_type": "code",
   "execution_count": 9,
   "metadata": {},
   "outputs": [
    {
     "name": "stdout",
     "output_type": "stream",
     "text": [
      "predicted value =  [-3.2762613e-14]\n"
     ]
    }
   ],
   "source": [
    "ex_data_01 = np.array([4, 4, 4, 4])    #  4 - 4 + 4 - 4 = 0\n",
    "\n",
    "print(\"predicted value = \", predict(ex_data_01) ) "
   ]
  },
  {
   "cell_type": "code",
   "execution_count": 10,
   "metadata": {},
   "outputs": [
    {
     "name": "stdout",
     "output_type": "stream",
     "text": [
      "predicted value =  [7.]\n"
     ]
    }
   ],
   "source": [
    "ex_data_02 = np.array([-3, 0, 9, -1])    #  -3 -0 +9 -(-1) = 7\n",
    "\n",
    "print(\"predicted value = \", predict(ex_data_02) ) "
   ]
  },
  {
   "cell_type": "code",
   "execution_count": 11,
   "metadata": {},
   "outputs": [
    {
     "name": "stdout",
     "output_type": "stream",
     "text": [
      "predicted value =  [-8.]\n"
     ]
    }
   ],
   "source": [
    "ex_data_03 = np.array([-7, -9, -2, 8])   # -7 -(-9) + (-2) -8 = -8\n",
    "\n",
    "print(\"predicted value = \", predict(ex_data_03) ) "
   ]
  },
  {
   "cell_type": "code",
   "execution_count": 12,
   "metadata": {},
   "outputs": [
    {
     "name": "stdout",
     "output_type": "stream",
     "text": [
      "predicted value =  [8.]\n"
     ]
    }
   ],
   "source": [
    "ex_data_04 = np.array([1, -2, 3, -2])   # 1 -(-2) + 3 -(-2) = 8\n",
    "\n",
    "print(\"predicted value = \", predict(ex_data_04) ) "
   ]
  },
  {
   "cell_type": "code",
   "execution_count": 13,
   "metadata": {},
   "outputs": [
    {
     "name": "stdout",
     "output_type": "stream",
     "text": [
      "predicted value =  [107.]\n"
     ]
    }
   ],
   "source": [
    "ex_data_05 = np.array([19, -12, 0, -76])   # 19 -(-12) + 0 -(-76) = 107\n",
    "\n",
    "print(\"predicted value = \", predict(ex_data_05) ) "
   ]
  },
  {
   "cell_type": "code",
   "execution_count": 14,
   "metadata": {},
   "outputs": [
    {
     "name": "stdout",
     "output_type": "stream",
     "text": [
      "predicted value =  [2080.]\n"
     ]
    }
   ],
   "source": [
    "ex_data_06 = np.array([2001, -1, 109, 31])   # 2001 -(-1) + 109 -(31) = 2080\n",
    "\n",
    "print(\"predicted value = \", predict(ex_data_06) ) "
   ]
  },
  {
   "cell_type": "code",
   "execution_count": 15,
   "metadata": {},
   "outputs": [
    {
     "name": "stdout",
     "output_type": "stream",
     "text": [
      "predicted value =  [-1303.]\n"
     ]
    }
   ],
   "source": [
    "ex_data_07 = np.array([-1, 102, -200 , 1000])   # -1 -(102) + (-200) -(1000) = -1303\n",
    "\n",
    "print(\"predicted value = \", predict(ex_data_07) ) "
   ]
  },
  {
   "cell_type": "code",
   "execution_count": null,
   "metadata": {},
   "outputs": [],
   "source": []
  }
 ],
 "metadata": {
  "anaconda-cloud": {},
  "kernelspec": {
   "display_name": "Python 3",
   "language": "python",
   "name": "python3"
  },
  "language_info": {
   "codemirror_mode": {
    "name": "ipython",
    "version": 3
   },
   "file_extension": ".py",
   "mimetype": "text/x-python",
   "name": "python",
   "nbconvert_exporter": "python",
   "pygments_lexer": "ipython3",
   "version": "3.7.3"
  }
 },
 "nbformat": 4,
 "nbformat_minor": 1
}

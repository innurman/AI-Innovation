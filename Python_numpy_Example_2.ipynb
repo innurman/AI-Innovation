{
 "cells": [
  {
   "cell_type": "markdown",
   "metadata": {},
   "source": [
    "### [예제 2.1]"
   ]
  },
  {
   "cell_type": "code",
   "execution_count": 23,
   "metadata": {},
   "outputs": [],
   "source": [
    "import numpy as np\n",
    "\n",
    "# index 이용하여 넘파이 원소값 출력\n",
    "def func1(var):\n",
    "    \n",
    "    if var.ndim == 1:    # vector\n",
    "        \n",
    "        for index in range(len(var)):\n",
    "            \n",
    "            print('value = ', var[index])\n",
    "            \n",
    "    elif var.ndim == 2:  # matrix\n",
    "        \n",
    "        rows = var.shape[0]\n",
    "        columns = var.shape[1]\n",
    "        \n",
    "        for row in range(rows):\n",
    "            for column in range(columns):\n",
    "                \n",
    "                print('value = ', var[row, column])\n",
    "                \n",
    "    else:\n",
    "        \n",
    "        print('not support tensor...')"
   ]
  },
  {
   "cell_type": "code",
   "execution_count": 34,
   "metadata": {},
   "outputs": [],
   "source": [
    "# iterator 이용하여 넘파이 원소값 출력\n",
    "def func2(var):\n",
    "    \n",
    "    it = np.nditer(var, flags=['multi_index'], op_flags=['readwrite'])\n",
    "    \n",
    "    while not it.finished:\n",
    "        \n",
    "        index = it.multi_index\n",
    "        \n",
    "        print('value = ', var[index])\n",
    "        #print('index = ', index, ', value = ', var[index])\n",
    "        \n",
    "        it.iternext()"
   ]
  },
  {
   "cell_type": "code",
   "execution_count": 35,
   "metadata": {},
   "outputs": [],
   "source": [
    "X1 = np.array([1, 2, 3, 4, 5])  # vector\n",
    "X2 = np.array([ [2, 4], [1, 2], [0, 5] ])  # matrix\n",
    "X3 = np.array([ [ [2, 4], [1, 2] ], [ [3, 5], [6, 8] ] ])  # tensor"
   ]
  },
  {
   "cell_type": "code",
   "execution_count": 36,
   "metadata": {},
   "outputs": [
    {
     "name": "stdout",
     "output_type": "stream",
     "text": [
      "value =  1\n",
      "value =  2\n",
      "value =  3\n",
      "value =  4\n",
      "value =  5\n",
      "==============\n",
      "value =  1\n",
      "value =  2\n",
      "value =  3\n",
      "value =  4\n",
      "value =  5\n"
     ]
    }
   ],
   "source": [
    "# vector X1 에 대한 func1, func2 호출\n",
    "\n",
    "func1(X1)\n",
    "print('==============')\n",
    "func2(X1)"
   ]
  },
  {
   "cell_type": "code",
   "execution_count": 37,
   "metadata": {},
   "outputs": [
    {
     "name": "stdout",
     "output_type": "stream",
     "text": [
      "value =  2\n",
      "value =  4\n",
      "value =  1\n",
      "value =  2\n",
      "value =  0\n",
      "value =  5\n",
      "==============\n",
      "value =  2\n",
      "value =  4\n",
      "value =  1\n",
      "value =  2\n",
      "value =  0\n",
      "value =  5\n"
     ]
    }
   ],
   "source": [
    "# matrix X2 에 대한 func1, func2 호출\n",
    "\n",
    "func1(X2)\n",
    "print('==============')\n",
    "func2(X2)"
   ]
  },
  {
   "cell_type": "code",
   "execution_count": 38,
   "metadata": {},
   "outputs": [
    {
     "name": "stdout",
     "output_type": "stream",
     "text": [
      "not support tensor...\n",
      "==============\n",
      "value =  2\n",
      "value =  4\n",
      "value =  1\n",
      "value =  2\n",
      "value =  3\n",
      "value =  5\n",
      "value =  6\n",
      "value =  8\n"
     ]
    }
   ],
   "source": [
    "# tensor X3 에 대한 func1, func2 호출\n",
    "\n",
    "func1(X3)\n",
    "print('==============')\n",
    "func2(X3)"
   ]
  },
  {
   "cell_type": "markdown",
   "metadata": {},
   "source": [
    "### [예제 2.2]"
   ]
  },
  {
   "cell_type": "code",
   "execution_count": 39,
   "metadata": {},
   "outputs": [
    {
     "data": {
      "text/plain": [
       "(3, 4)"
      ]
     },
     "execution_count": 39,
     "metadata": {},
     "output_type": "execute_result"
    }
   ],
   "source": [
    "X = np.array([ [7, 5, 3, 1], [1, 2, 3, 4], [4, 0, 2, 8] ])\n",
    "\n",
    "X.shape"
   ]
  },
  {
   "cell_type": "code",
   "execution_count": 40,
   "metadata": {},
   "outputs": [
    {
     "data": {
      "text/plain": [
       "array([[7, 5, 3],\n",
       "       [1, 1, 2],\n",
       "       [3, 4, 4],\n",
       "       [0, 2, 8]])"
      ]
     },
     "execution_count": 40,
     "metadata": {},
     "output_type": "execute_result"
    }
   ],
   "source": [
    "A = X.reshape(-1, 3)\n",
    "\n",
    "A"
   ]
  },
  {
   "cell_type": "code",
   "execution_count": 41,
   "metadata": {},
   "outputs": [
    {
     "data": {
      "text/plain": [
       "array([[5],\n",
       "       [1]])"
      ]
     },
     "execution_count": 41,
     "metadata": {},
     "output_type": "execute_result"
    }
   ],
   "source": [
    "B = A[0:2, 1:2]\n",
    "\n",
    "B"
   ]
  },
  {
   "cell_type": "code",
   "execution_count": 42,
   "metadata": {},
   "outputs": [
    {
     "data": {
      "text/plain": [
       "array([[1, 1],\n",
       "       [3, 4],\n",
       "       [0, 2]])"
      ]
     },
     "execution_count": 42,
     "metadata": {},
     "output_type": "execute_result"
    }
   ],
   "source": [
    "C = A[1:, :-1]\n",
    "\n",
    "C"
   ]
  },
  {
   "cell_type": "code",
   "execution_count": 43,
   "metadata": {},
   "outputs": [
    {
     "data": {
      "text/plain": [
       "array([0, 2, 1, 2], dtype=int64)"
      ]
     },
     "execution_count": 43,
     "metadata": {},
     "output_type": "execute_result"
    }
   ],
   "source": [
    "D = np.argmax(A, 1)\n",
    "\n",
    "D"
   ]
  },
  {
   "cell_type": "code",
   "execution_count": 44,
   "metadata": {},
   "outputs": [
    {
     "data": {
      "text/plain": [
       "array([[1, 1, 3, 4, 0, 2]])"
      ]
     },
     "execution_count": 44,
     "metadata": {},
     "output_type": "execute_result"
    }
   ],
   "source": [
    "E = C.reshape(-1,6)\n",
    "\n",
    "E"
   ]
  },
  {
   "cell_type": "code",
   "execution_count": 45,
   "metadata": {},
   "outputs": [
    {
     "data": {
      "text/plain": [
       "11"
      ]
     },
     "execution_count": 45,
     "metadata": {},
     "output_type": "execute_result"
    }
   ],
   "source": [
    "F = np.sum(E)\n",
    "\n",
    "F"
   ]
  },
  {
   "cell_type": "code",
   "execution_count": 46,
   "metadata": {},
   "outputs": [
    {
     "name": "stderr",
     "output_type": "stream",
     "text": [
      "C:\\ProgramData\\Anaconda3\\lib\\site-packages\\ipykernel_launcher.py:1: RuntimeWarning: divide by zero encountered in log\n",
      "  \"\"\"Entry point for launching an IPython kernel.\n"
     ]
    },
    {
     "data": {
      "text/plain": [
       "array([[1.94591015, 1.60943791, 1.09861229, 0.        ],\n",
       "       [0.        , 0.69314718, 1.09861229, 1.38629436],\n",
       "       [1.38629436,       -inf, 0.69314718, 2.07944154]])"
      ]
     },
     "execution_count": 46,
     "metadata": {},
     "output_type": "execute_result"
    }
   ],
   "source": [
    "G = np.log(X)\n",
    "\n",
    "G"
   ]
  },
  {
   "cell_type": "code",
   "execution_count": 52,
   "metadata": {},
   "outputs": [
    {
     "data": {
      "text/plain": [
       "array([[ 1.94591015e+00,  1.60943791e+00,  1.09861229e+00,\n",
       "         9.99999989e-09],\n",
       "       [ 9.99999989e-09,  6.93147186e-01,  1.09861229e+00,\n",
       "         1.38629436e+00],\n",
       "       [ 1.38629436e+00, -1.84206807e+01,  6.93147186e-01,\n",
       "         2.07944154e+00]])"
      ]
     },
     "execution_count": 52,
     "metadata": {},
     "output_type": "execute_result"
    }
   ],
   "source": [
    "delta = 1e-8  # 실행 컴퓨터가 저사양이라면 1e-5 정도로 해주는것이 좋음. 즉 delta를 너무 낮게 하면 호환성 및 정밀도 문제 발생\n",
    "\n",
    "G_1 = np.log(X+delta)\n",
    "\n",
    "G_1"
   ]
  },
  {
   "cell_type": "markdown",
   "metadata": {},
   "source": [
    "### [예제 2.3]"
   ]
  },
  {
   "cell_type": "code",
   "execution_count": 1,
   "metadata": {},
   "outputs": [],
   "source": [
    "import numpy as np"
   ]
  },
  {
   "cell_type": "code",
   "execution_count": 9,
   "metadata": {},
   "outputs": [
    {
     "name": "stdout",
     "output_type": "stream",
     "text": [
      "[[0.24310629]] [0.57688472]\n"
     ]
    }
   ],
   "source": [
    "W = np.random.rand(1,1)\n",
    "b = np.random.rand(1)\n",
    "\n",
    "print(W, b)"
   ]
  },
  {
   "cell_type": "code",
   "execution_count": 12,
   "metadata": {},
   "outputs": [],
   "source": [
    "def loss_func(xdata, tdata):\n",
    "    \n",
    "    y = np.dot(xdata, W) + b\n",
    "    \n",
    "    loss = np.sum((tdata-y)**2) / (len(xdata))\n",
    "    \n",
    "    return loss"
   ]
  },
  {
   "cell_type": "code",
   "execution_count": 13,
   "metadata": {},
   "outputs": [
    {
     "name": "stdout",
     "output_type": "stream",
     "text": [
      "ret =  14.789908136945593\n"
     ]
    }
   ],
   "source": [
    "xdata = np.array([1, 2, 3, 4, 5]).reshape(5,1)\n",
    "tdata = np.array([3, 4, 5, 6, 7]).reshape(5,1)\n",
    "\n",
    "ret = loss_func(xdata, tdata)\n",
    "\n",
    "print('ret = ', ret)"
   ]
  },
  {
   "cell_type": "code",
   "execution_count": null,
   "metadata": {},
   "outputs": [],
   "source": []
  }
 ],
 "metadata": {
  "kernelspec": {
   "display_name": "Python 3",
   "language": "python",
   "name": "python3"
  },
  "language_info": {
   "codemirror_mode": {
    "name": "ipython",
    "version": 3
   },
   "file_extension": ".py",
   "mimetype": "text/x-python",
   "name": "python",
   "nbconvert_exporter": "python",
   "pygments_lexer": "ipython3",
   "version": "3.7.3"
  }
 },
 "nbformat": 4,
 "nbformat_minor": 2
}

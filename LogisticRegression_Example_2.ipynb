{
 "cells": [
  {
   "cell_type": "markdown",
   "metadata": {},
   "source": [
    "### [예제 2]  MultiVariable Classification 구현_CrossEntropy ver\n",
    "#### 주의해서 볼 함수는 sigmoid,  loss_func,  predict 함수"
   ]
  },
  {
   "cell_type": "code",
   "execution_count": 1,
   "metadata": {},
   "outputs": [],
   "source": [
    "import numpy as np\n",
    "from datetime import datetime\n",
    "\n",
    "np.random.seed(0)\n",
    "\n",
    "def numerical_derivative(f, x):\n",
    "    delta_x = 1e-4 # 0.0001\n",
    "    grad = np.zeros_like(x)\n",
    "    \n",
    "    it = np.nditer(x, flags=['multi_index'], op_flags=['readwrite'])\n",
    "    \n",
    "    while not it.finished:\n",
    "        idx = it.multi_index        \n",
    "        tmp_val = x[idx]\n",
    "        x[idx] = float(tmp_val) + delta_x\n",
    "        fx1 = f(x) # f(x+delta_x)\n",
    "        \n",
    "        x[idx] = float(tmp_val) - delta_x \n",
    "        fx2 = f(x) # f(x-delta_x)\n",
    "        grad[idx] = (fx1 - fx2) / (2*delta_x)\n",
    "        \n",
    "        x[idx] = tmp_val \n",
    "        it.iternext()   \n",
    "        \n",
    "    return grad"
   ]
  },
  {
   "cell_type": "code",
   "execution_count": 2,
   "metadata": {},
   "outputs": [],
   "source": [
    "# 최종출력은 y = sigmoid(Wx+b) 이며, 손실함수는 cross-entropy 로 나타냄\n",
    "\n",
    "def sigmoid(z):\n",
    "    return 1 / (1+np.exp(-z))"
   ]
  },
  {
   "cell_type": "code",
   "execution_count": 3,
   "metadata": {},
   "outputs": [],
   "source": [
    "# x_data = (예습시간, 복습시간)\n",
    "# t_data = 1 (Pass), 0 (Fail)\n",
    "\n",
    "x_data = [ [2, 4], [4, 11], [6, 6], [8, 5], [10, 7], [12, 16], [14, 8], [16, 3], [18, 7] ]\n",
    "t_data = [0, 0, 0, 0, 1, 1, 1, 1, 1]"
   ]
  },
  {
   "cell_type": "code",
   "execution_count": 4,
   "metadata": {},
   "outputs": [
    {
     "name": "stdout",
     "output_type": "stream",
     "text": [
      "W =  [[0.5488135 ]\n",
      " [0.71518937]] , W.shape =  (2, 1) , b =  [0.60276338] , b.shape =  (1,)\n"
     ]
    }
   ],
   "source": [
    "W = np.random.rand(2,1)  \n",
    "b = np.random.rand(1)  \n",
    "\n",
    "print(\"W = \", W, \", W.shape = \", W.shape, \", b = \", b, \", b.shape = \", b.shape)"
   ]
  },
  {
   "cell_type": "code",
   "execution_count": 5,
   "metadata": {},
   "outputs": [],
   "source": [
    "def loss_func(x, t):\n",
    "    \n",
    "    delta = 1e-7    # log 무한대 발산 방지\n",
    "    \n",
    "    z = np.dot(x, W) + b\n",
    "    y = sigmoid(z)\n",
    "    \n",
    "    # cross-entropy \n",
    "    return  -np.sum( t*np.log(y + delta) + (1-t)*np.log((1 - y)+delta ) ) \n",
    "\n",
    "# 손실함수 값 계산 함수\n",
    "# 입력변수 x, t : numpy type\n",
    "def error_val(x, t):\n",
    "    delta = 1e-7    # log 무한대 발산 방지\n",
    "    \n",
    "    z = np.dot(x, W) + b\n",
    "    y = sigmoid(z)\n",
    "    \n",
    "    # cross-entropy \n",
    "    return  -np.sum( t*np.log(y + delta) + (1-t)*np.log((1 - y)+delta ) ) \n",
    "\n",
    "# 학습을 마친 후, 임의의 데이터에 대해 미래 값 예측 함수\n",
    "# 입력변수 test_data : numpy type\n",
    "def predict(test_data):\n",
    "    \n",
    "    z = np.dot(test_data, W) + b\n",
    "    y = sigmoid(z)\n",
    "    \n",
    "    if y >= 0.5:\n",
    "        result = 1  # True\n",
    "    else:\n",
    "        result = 0  # False\n",
    "    \n",
    "    return y, result"
   ]
  },
  {
   "cell_type": "code",
   "execution_count": 6,
   "metadata": {},
   "outputs": [
    {
     "name": "stdout",
     "output_type": "stream",
     "text": [
      "Initial error value =  31.987989823677083\n",
      "step =  0 error value =  21.153788725085356\n",
      "step =  5000 error value =  0.6053721152077355\n",
      "step =  10000 error value =  0.404608661023046\n",
      "step =  15000 error value =  0.3071718920969435\n",
      "step =  20000 error value =  0.2474721070805899\n",
      "step =  25000 error value =  0.20700760661342701\n",
      "step =  30000 error value =  0.17778892255031828\n",
      "step =  35000 error value =  0.15571997276750382\n",
      "step =  40000 error value =  0.13847565718323476\n",
      "step =  45000 error value =  0.12463783640272239\n",
      "step =  50000 error value =  0.11329289089054907\n",
      "step =  55000 error value =  0.10382607297876434\n",
      "step =  60000 error value =  0.09580877867277186\n",
      "step =  65000 error value =  0.0889331998016841\n",
      "step =  70000 error value =  0.0829726602518056\n",
      "step =  75000 error value =  0.0777565940390387\n",
      "step =  80000 error value =  0.07315423152396551\n",
      "step =  85000 error value =  0.06906365588118336\n",
      "step =  90000 error value =  0.0654042770369588\n",
      "step =  95000 error value =  0.06211154104067597\n",
      "step =  100000 error value =  0.05913313766288736\n",
      "\n",
      "Elapsed Time =>  0:01:00.936301\n"
     ]
    }
   ],
   "source": [
    "learning_rate = 1e-2  # 1e-2, 1e-3 은 손실함수 값 발산\n",
    "\n",
    "# x_data, t_data 는 list 이므로 numpy로 바꾸어주어야 함\n",
    "\n",
    "input_xdata = np.array(x_data)\n",
    "input_tdata = np.array(t_data).reshape(len(t_data), 1)\n",
    "\n",
    "f = lambda x : loss_func(input_xdata, input_tdata)\n",
    "\n",
    "print(\"Initial error value = \", error_val(input_xdata, input_tdata) )\n",
    "\n",
    "start_time = datetime.now()\n",
    "\n",
    "for step in  range(100001):  \n",
    "    \n",
    "    W -= learning_rate * numerical_derivative(f, W)\n",
    "    \n",
    "    b -= learning_rate * numerical_derivative(f, b)\n",
    "    \n",
    "    if (step % 5000 == 0):\n",
    "        print(\"step = \", step, \"error value = \", error_val(input_xdata, input_tdata) )\n",
    "        \n",
    "        \n",
    "end_time = datetime.now()\n",
    "\n",
    "print(\"\")\n",
    "print(\"Elapsed Time => \", end_time - start_time) "
   ]
  },
  {
   "cell_type": "code",
   "execution_count": 7,
   "metadata": {},
   "outputs": [
    {
     "name": "stdout",
     "output_type": "stream",
     "text": [
      "[0.15441576] 0\n"
     ]
    }
   ],
   "source": [
    "test_data = np.array([3, 17])\n",
    "\n",
    "(real_val, logical_val) = predict(test_data)\n",
    "\n",
    "print(real_val, logical_val)"
   ]
  },
  {
   "cell_type": "code",
   "execution_count": 8,
   "metadata": {},
   "outputs": [
    {
     "name": "stdout",
     "output_type": "stream",
     "text": [
      "[0.0007137] 0\n"
     ]
    }
   ],
   "source": [
    "test_data = np.array([5, 8])\n",
    "\n",
    "(real_val, logical_val) = predict(test_data)\n",
    "\n",
    "print(real_val, logical_val)"
   ]
  },
  {
   "cell_type": "code",
   "execution_count": 9,
   "metadata": {},
   "outputs": [
    {
     "name": "stdout",
     "output_type": "stream",
     "text": [
      "[0.99999641] 1\n"
     ]
    }
   ],
   "source": [
    "test_data = np.array([7, 21])\n",
    "\n",
    "(real_val, logical_val) = predict(test_data)\n",
    "\n",
    "print(real_val, logical_val)"
   ]
  },
  {
   "cell_type": "code",
   "execution_count": 10,
   "metadata": {},
   "outputs": [
    {
     "name": "stdout",
     "output_type": "stream",
     "text": [
      "[0.59986773] 1\n"
     ]
    }
   ],
   "source": [
    "test_data = np.array([12, 0])\n",
    "\n",
    "(real_val, logical_val) = predict(test_data)\n",
    "\n",
    "print(real_val, logical_val)"
   ]
  },
  {
   "cell_type": "code",
   "execution_count": 11,
   "metadata": {},
   "outputs": [
    {
     "name": "stdout",
     "output_type": "stream",
     "text": [
      "W =  [[2.40840257]\n",
      " [1.15119589]] , b =  [-28.49591689]\n"
     ]
    }
   ],
   "source": [
    "print('W = ', W, ', b = ', b)"
   ]
  },
  {
   "cell_type": "code",
   "execution_count": null,
   "metadata": {},
   "outputs": [],
   "source": []
  }
 ],
 "metadata": {
  "anaconda-cloud": {},
  "kernelspec": {
   "display_name": "Python 3",
   "language": "python",
   "name": "python3"
  },
  "language_info": {
   "codemirror_mode": {
    "name": "ipython",
    "version": 3
   },
   "file_extension": ".py",
   "mimetype": "text/x-python",
   "name": "python",
   "nbconvert_exporter": "python",
   "pygments_lexer": "ipython3",
   "version": "3.7.3"
  }
 },
 "nbformat": 4,
 "nbformat_minor": 1
}

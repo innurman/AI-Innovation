{
 "cells": [
  {
   "cell_type": "markdown",
   "metadata": {},
   "source": [
    "### [예제 13] How to count the occurrence of certain item in an ndarray in Python"
   ]
  },
  {
   "cell_type": "code",
   "execution_count": 1,
   "metadata": {},
   "outputs": [],
   "source": [
    "import numpy as np"
   ]
  },
  {
   "cell_type": "markdown",
   "metadata": {},
   "source": [
    "#### numpy.unique() 이용"
   ]
  },
  {
   "cell_type": "code",
   "execution_count": 2,
   "metadata": {},
   "outputs": [
    {
     "name": "stdout",
     "output_type": "stream",
     "text": [
      "<class 'numpy.ndarray'> <class 'numpy.ndarray'>\n",
      "[2 5 6 7 8 9]\n",
      "[3 2 2 1 1 1]\n",
      "unique number =  2 , count =  3\n",
      "unique number =  5 , count =  2\n",
      "unique number =  6 , count =  2\n",
      "unique number =  7 , count =  1\n",
      "unique number =  8 , count =  1\n",
      "unique number =  9 , count =  1\n"
     ]
    }
   ],
   "source": [
    "A = np.array([5,2,6,2,7,5,6,8,2,9])\n",
    "\n",
    "unique, counts = np.unique(A, return_counts=True)\n",
    "\n",
    "print(type(unique), type(counts))\n",
    "print(unique)\n",
    "print(counts)\n",
    "\n",
    "for index in range(len(unique)):\n",
    "    print('unique number = ', unique[index], ', count = ', counts[index])"
   ]
  },
  {
   "cell_type": "code",
   "execution_count": 3,
   "metadata": {},
   "outputs": [
    {
     "name": "stdout",
     "output_type": "stream",
     "text": [
      "input_data.shape =  (759, 8) , target_data =  (759,)\n",
      "<class 'numpy.ndarray'> <class 'numpy.ndarray'>\n",
      "[0. 1.]\n",
      "[263 496]\n",
      "unique number =  0.0 , count =  263\n",
      "unique number =  1.0 , count =  496\n",
      "unique number =  0.0 , ratio =  34.65  %\n",
      "unique number =  1.0 , ratio =  65.35  %\n"
     ]
    }
   ],
   "source": [
    "# Diabetes target distribution\n",
    "try:\n",
    "    \n",
    "    loaded_data = np.loadtxt('./diabetes.csv', delimiter=',', dtype=np.float32)\n",
    "\n",
    "    input_data = loaded_data[ :, 0:-1 ]\n",
    "    target_data = loaded_data[ :, -1 ]\n",
    "\n",
    "    print('input_data.shape = ', input_data.shape, ', target_data = ', target_data.shape)\n",
    "\n",
    "    # numpy.unique() 사용\n",
    "    unique, counts = np.unique(target_data, return_counts=True)\n",
    "\n",
    "    print(type(unique), type(counts))\n",
    "    print(unique)\n",
    "    print(counts)\n",
    "\n",
    "    unique_target = []\n",
    "    \n",
    "    for index in range(len(unique)):\n",
    "        \n",
    "        print('unique number = ', unique[index], ', count = ', counts[index])\n",
    "        \n",
    "        unique_target.append(unique[index])\n",
    "\n",
    "    for index in range(len(unique_target)):\n",
    "        \n",
    "        print('unique number = ', unique_target[index], ', ratio = ', np.round(100 * counts[index] / (loaded_data.shape[0]), 2), ' %')\n",
    "    \n",
    "except Exception as err:\n",
    "    print(str(err))"
   ]
  },
  {
   "cell_type": "code",
   "execution_count": 4,
   "metadata": {},
   "outputs": [
    {
     "name": "stdout",
     "output_type": "stream",
     "text": [
      "input_data.shape =  (470, 17) , target_data =  (470,)\n",
      "<class 'numpy.ndarray'> <class 'numpy.ndarray'>\n",
      "[0. 1.]\n",
      "[400  70]\n",
      "unique number =  0.0 , count =  400\n",
      "unique number =  1.0 , count =  70\n",
      "unique number =  0.0 , ratio =  85.11  %\n",
      "unique number =  1.0 , ratio =  14.89  %\n"
     ]
    }
   ],
   "source": [
    "# ThoracicSurgery target distribution\n",
    "try:\n",
    "    \n",
    "    loaded_data = np.loadtxt('./ThoracicSurgery.csv', delimiter=',', dtype=np.float32)\n",
    "\n",
    "    input_data = loaded_data[ :, 0:-1 ]\n",
    "    target_data = loaded_data[ :, -1 ]\n",
    "\n",
    "    print('input_data.shape = ', input_data.shape, ', target_data = ', target_data.shape)\n",
    "\n",
    "    # numpy.unique() 사용\n",
    "    unique, counts = np.unique(target_data, return_counts=True)\n",
    "\n",
    "    print(type(unique), type(counts))\n",
    "    print(unique)\n",
    "    print(counts)\n",
    "\n",
    "    unique_target = []\n",
    "    \n",
    "    for index in range(len(unique)):\n",
    "        \n",
    "        print('unique number = ', unique[index], ', count = ', counts[index])\n",
    "        \n",
    "        unique_target.append(unique[index])\n",
    "\n",
    "    for index in range(len(unique_target)):\n",
    "        \n",
    "        print('unique number = ', unique_target[index], ', ratio = ', np.round(100 * counts[index] / (loaded_data.shape[0]), 2), ' %')\n",
    "    \n",
    "except Exception as err:\n",
    "    print(str(err))"
   ]
  },
  {
   "cell_type": "code",
   "execution_count": 5,
   "metadata": {},
   "outputs": [
    {
     "name": "stdout",
     "output_type": "stream",
     "text": [
      "input_data.shape =  (6497, 12) , target_data =  (6497,)\n",
      "<class 'numpy.ndarray'> <class 'numpy.ndarray'>\n",
      "[0. 1.]\n",
      "[4898 1599]\n",
      "unique number =  0.0 , count =  4898\n",
      "unique number =  1.0 , count =  1599\n",
      "unique number =  0.0 , ratio =  75.39  %\n",
      "unique number =  1.0 , ratio =  24.61  %\n"
     ]
    }
   ],
   "source": [
    "# Wine target distribution\n",
    "try:\n",
    "    \n",
    "    loaded_data = np.loadtxt('./Wine.csv', delimiter=',', dtype=np.float32)\n",
    "\n",
    "    input_data = loaded_data[ :, 0:-1 ]\n",
    "    target_data = loaded_data[ :, -1 ]\n",
    "\n",
    "    print('input_data.shape = ', input_data.shape, ', target_data = ', target_data.shape)\n",
    "\n",
    "    # numpy.unique() 사용\n",
    "    unique, counts = np.unique(target_data, return_counts=True)\n",
    "\n",
    "    print(type(unique), type(counts))\n",
    "    print(unique)\n",
    "    print(counts)\n",
    "\n",
    "    unique_target = []\n",
    "    \n",
    "    for index in range(len(unique)):\n",
    "        \n",
    "        print('unique number = ', unique[index], ', count = ', counts[index])\n",
    "        \n",
    "        unique_target.append(unique[index])\n",
    "\n",
    "    for index in range(len(unique_target)):\n",
    "        \n",
    "        print('unique number = ', unique_target[index], ', ratio = ', np.round(100 * counts[index] / (loaded_data.shape[0]), 2), ' %')\n",
    "    \n",
    "except Exception as err:\n",
    "    print(str(err))"
   ]
  },
  {
   "cell_type": "code",
   "execution_count": null,
   "metadata": {},
   "outputs": [],
   "source": []
  }
 ],
 "metadata": {
  "kernelspec": {
   "display_name": "Python 3",
   "language": "python",
   "name": "python3"
  },
  "language_info": {
   "codemirror_mode": {
    "name": "ipython",
    "version": 3
   },
   "file_extension": ".py",
   "mimetype": "text/x-python",
   "name": "python",
   "nbconvert_exporter": "python",
   "pygments_lexer": "ipython3",
   "version": "3.7.6"
  }
 },
 "nbformat": 4,
 "nbformat_minor": 2
}
